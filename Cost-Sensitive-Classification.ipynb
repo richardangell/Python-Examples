{
 "cells": [
  {
   "cell_type": "markdown",
   "metadata": {},
   "source": [
    "# Cost-Sensitive-Classification\n",
    "This notebook shows an example of cost sensitive classification using the credit card default dataset on [Kaggle](https://www.kaggle.com/uciml/default-of-credit-card-clients-dataset/home) using [LightGBM](https://github.com/Microsoft/LightGBM). The dataset is originally from [UCI Machine Learning Repository](https://archive.ics.uci.edu/ml/datasets/default+of+credit+card+clients). <br>\n",
    "The response for this dataset is a binary outcome - default for next months payment. <br>\n",
    "We will make up unequal costs for the errors (false positive and false negatives) on this problem and then look at 3 different ways of tackling cost sensitive classification; \n",
    "- Optimising the probability threshold\n",
    "- Reweighting the training dataset\n",
    "- Defining the loss function to take account of the costs <br>\n",
    "\n",
    "The last section of the notebook shows the derivation of the loss function accounting for different costs. <br>\n",
    "Note we will build basic models without any parameter tuning or variable selction and the same parameters for all models built. <br>\n",
    "<br>\n",
    "This notebook was inspired by this [question](https://datascience.stackexchange.com/questions/26972/cost-sensitive-logloss-for-xgboost) on stackexchange regarding cost sensitive loss function.\n"
   ]
  },
  {
   "cell_type": "markdown",
   "metadata": {
    "toc": true
   },
   "source": [
    "<h1>Table of Contents<span class=\"tocSkip\"></span></h1>\n",
    "<div class=\"toc\" style=\"margin-top: 1em;\"><ul class=\"toc-item\"><li><span><a href=\"#Cost-Sensitive-Classification\" data-toc-modified-id=\"Cost-Sensitive-Classification-1\">Cost-Sensitive-Classification</a></span><ul class=\"toc-item\"><li><span><a href=\"#Get-default-of-credit-card-clients-dataset\" data-toc-modified-id=\"Get-default-of-credit-card-clients-dataset-1.1\">Get default of credit card clients dataset</a></span><ul class=\"toc-item\"><li><span><a href=\"#Download-dataset-from-Kaggle\" data-toc-modified-id=\"Download-dataset-from-Kaggle-1.1.1\">Download dataset from Kaggle</a></span></li><li><span><a href=\"#Unzip-dataset\" data-toc-modified-id=\"Unzip-dataset-1.1.2\">Unzip dataset</a></span></li><li><span><a href=\"#Load-data\" data-toc-modified-id=\"Load-data-1.1.3\">Load data</a></span></li><li><span><a href=\"#Define-costs-for-false-positives-and-false-negatives\" data-toc-modified-id=\"Define-costs-for-false-positives-and-false-negatives-1.1.4\">Define costs for false positives and false negatives</a></span></li><li><span><a href=\"#Create-weights-column\" data-toc-modified-id=\"Create-weights-column-1.1.5\">Create weights column</a></span></li><li><span><a href=\"#Create-sample-column\" data-toc-modified-id=\"Create-sample-column-1.1.6\">Create sample column</a></span></li><li><span><a href=\"#Create-LightGBM-datasets\" data-toc-modified-id=\"Create-LightGBM-datasets-1.1.7\">Create LightGBM datasets</a></span><ul class=\"toc-item\"><li><span><a href=\"#Split-out-columns-for-different-samples\" data-toc-modified-id=\"Split-out-columns-for-different-samples-1.1.7.1\">Split out columns for different samples</a></span></li><li><span><a href=\"#Create-equal-weighted-dataset\" data-toc-modified-id=\"Create-equal-weighted-dataset-1.1.7.2\">Create equal weighted dataset</a></span></li><li><span><a href=\"#Create-reweighted-dataset\" data-toc-modified-id=\"Create-reweighted-dataset-1.1.7.3\">Create reweighted dataset</a></span></li></ul></li></ul></li><li><span><a href=\"#Method-1:-Optimise-probability-threshold\" data-toc-modified-id=\"Method-1:-Optimise-probability-threshold-1.2\">Method 1: Optimise probability threshold</a></span><ul class=\"toc-item\"><li><span><a href=\"#Build-model\" data-toc-modified-id=\"Build-model-1.2.1\">Build model</a></span></li><li><span><a href=\"#Get-predictions\" data-toc-modified-id=\"Get-predictions-1.2.2\">Get predictions</a></span></li><li><span><a href=\"#Define-evaluation-functions\" data-toc-modified-id=\"Define-evaluation-functions-1.2.3\">Define evaluation functions</a></span></li><li><span><a href=\"#Evaluate-model\" data-toc-modified-id=\"Evaluate-model-1.2.4\">Evaluate model</a></span></li></ul></li><li><span><a href=\"#Method-2:-Reweight-training-data\" data-toc-modified-id=\"Method-2:-Reweight-training-data-1.3\">Method 2: Reweight training data</a></span><ul class=\"toc-item\"><li><span><a href=\"#Build-model\" data-toc-modified-id=\"Build-model-1.3.1\">Build model</a></span></li><li><span><a href=\"#Get-predictions\" data-toc-modified-id=\"Get-predictions-1.3.2\">Get predictions</a></span></li><li><span><a href=\"#Evaluate-model\" data-toc-modified-id=\"Evaluate-model-1.3.3\">Evaluate model</a></span></li></ul></li><li><span><a href=\"#Method-3:-Cost-sensitive-loss-function\" data-toc-modified-id=\"Method-3:-Cost-sensitive-loss-function-1.4\">Method 3: Cost sensitive loss function</a></span><ul class=\"toc-item\"><li><span><a href=\"#Define-cost-sensitive-loss-function\" data-toc-modified-id=\"Define-cost-sensitive-loss-function-1.4.1\">Define cost sensitive loss function</a></span></li><li><span><a href=\"#Build-model\" data-toc-modified-id=\"Build-model-1.4.2\">Build model</a></span></li><li><span><a href=\"#Get-predictions\" data-toc-modified-id=\"Get-predictions-1.4.3\">Get predictions</a></span></li><li><span><a href=\"#Evaluate-model\" data-toc-modified-id=\"Evaluate-model-1.4.4\">Evaluate model</a></span></li></ul></li><li><span><a href=\"#Derivation-of-first-and-second-derivatives-for-log-loss-function\" data-toc-modified-id=\"Derivation-of-first-and-second-derivatives-for-log-loss-function-1.5\">Derivation of first and second derivatives for log loss function</a></span><ul class=\"toc-item\"><li><span><a href=\"#Log-loss-derivation\" data-toc-modified-id=\"Log-loss-derivation-1.5.1\">Log loss derivation</a></span></li><li><span><a href=\"#Cost-sensitive-loss-derivation\" data-toc-modified-id=\"Cost-sensitive-loss-derivation-1.5.2\">Cost sensitive loss derivation</a></span></li></ul></li></ul></li></ul></div>"
   ]
  },
  {
   "cell_type": "code",
   "execution_count": 5,
   "metadata": {},
   "outputs": [],
   "source": [
    "import pandas as pd\n",
    "import numpy as np\n",
    "import lightgbm as lgb\n",
    "from sklearn import metrics\n",
    "import os\n",
    "import zipfile\n",
    "import warnings\n",
    "import sklearn.exceptions\n",
    "%matplotlib inline"
   ]
  },
  {
   "cell_type": "code",
   "execution_count": 2,
   "metadata": {},
   "outputs": [],
   "source": [
    "pd.set_option('display.max_columns', 50)"
   ]
  },
  {
   "cell_type": "markdown",
   "metadata": {},
   "source": [
    "This disables warnings from sklearn's metrics for when we calculate classification metrics across many threshold and get no examples positively classified."
   ]
  },
  {
   "cell_type": "code",
   "execution_count": 3,
   "metadata": {},
   "outputs": [],
   "source": [
    "warnings.filterwarnings(\"ignore\", category = sklearn.exceptions.UndefinedMetricWarning)"
   ]
  },
  {
   "cell_type": "markdown",
   "metadata": {},
   "source": [
    "Setting the KMP_DUPLICATE_LIB_OK environment variable is to prevent the following error; \"OMP: Error #15: Initializing libiomp5.dylib, but found libiomp5.dylib already initialized.\" See https://github.com/dmlc/xgboost/issues/1715 for a discussion on the problem."
   ]
  },
  {
   "cell_type": "code",
   "execution_count": 4,
   "metadata": {},
   "outputs": [],
   "source": [
    "os.environ['KMP_DUPLICATE_LIB_OK'] = 'True'"
   ]
  },
  {
   "cell_type": "markdown",
   "metadata": {},
   "source": [
    "## Get default of credit card clients dataset"
   ]
  },
  {
   "cell_type": "markdown",
   "metadata": {},
   "source": [
    "### Download dataset from Kaggle"
   ]
  },
  {
   "cell_type": "code",
   "execution_count": 4,
   "metadata": {},
   "outputs": [
    {
     "data": {
      "text/plain": [
       "0"
      ]
     },
     "execution_count": 4,
     "metadata": {},
     "output_type": "execute_result"
    }
   ],
   "source": [
    "os.system('kaggle datasets download -d uciml/default-of-credit-card-clients-dataset')"
   ]
  },
  {
   "cell_type": "markdown",
   "metadata": {},
   "source": [
    "### Unzip dataset"
   ]
  },
  {
   "cell_type": "code",
   "execution_count": 5,
   "metadata": {},
   "outputs": [],
   "source": [
    "zip_ref = zipfile.ZipFile(os.getcwd() + '/default-of-credit-card-clients-dataset.zip', 'r')\n",
    "zip_ref.extractall(os.getcwd())\n",
    "zip_ref.close()"
   ]
  },
  {
   "cell_type": "code",
   "execution_count": 6,
   "metadata": {},
   "outputs": [],
   "source": [
    "dataset = os.getcwd() + '/UCI_Credit_Card.csv'"
   ]
  },
  {
   "cell_type": "markdown",
   "metadata": {},
   "source": [
    "### Load data"
   ]
  },
  {
   "cell_type": "markdown",
   "metadata": {},
   "source": [
    "See below for a description of the dataset from https://archive.ics.uci.edu/ml/datasets/default+of+credit+card+clients#; <br>\n",
    "X1: Amount of the given credit (NT dollar): it includes both the individual consumer credit and his/her family (supplementary) credit. <br>\n",
    "X2: Gender (1 = male; 2 = female). <br>\n",
    "X3: Education (1 = graduate school; 2 = university; 3 = high school; 4 = others). <br>\n",
    "X4: Marital status (1 = married; 2 = single; 3 = others). <br>\n",
    "X5: Age (year). <br>\n",
    "X6 - X11: History of past payment. We tracked the past monthly payment records (from April to September, 2005) as follows: X6 = the repayment status in September, 2005; X7 = the repayment status in August, 2005; . . .;X11 = the repayment status in April, 2005. The measurement scale for the repayment status is: -1 = pay duly; 1 = payment delay for one month; 2 = payment delay for two months; . . .; 8 = payment delay for eight months; 9 = payment delay for nine months and above. <br>\n",
    "X12-X17: Amount of bill statement (NT dollar). X12 = amount of bill statement in September, 2005; X13 = amount of bill statement in August, 2005; . . .; X17 = amount of bill statement in April, 2005. <br>\n",
    "X18-X23: Amount of previous payment (NT dollar). X18 = amount paid in September, 2005; X19 = amount paid in August, 2005; . . .;X23 = amount paid in April, 2005. <br>"
   ]
  },
  {
   "cell_type": "code",
   "execution_count": 7,
   "metadata": {},
   "outputs": [],
   "source": [
    "credit_card = pd.read_csv(dataset)"
   ]
  },
  {
   "cell_type": "code",
   "execution_count": 8,
   "metadata": {},
   "outputs": [
    {
     "data": {
      "text/html": [
       "<div>\n",
       "<style scoped>\n",
       "    .dataframe tbody tr th:only-of-type {\n",
       "        vertical-align: middle;\n",
       "    }\n",
       "\n",
       "    .dataframe tbody tr th {\n",
       "        vertical-align: top;\n",
       "    }\n",
       "\n",
       "    .dataframe thead th {\n",
       "        text-align: right;\n",
       "    }\n",
       "</style>\n",
       "<table border=\"1\" class=\"dataframe\">\n",
       "  <thead>\n",
       "    <tr style=\"text-align: right;\">\n",
       "      <th></th>\n",
       "      <th>ID</th>\n",
       "      <th>LIMIT_BAL</th>\n",
       "      <th>SEX</th>\n",
       "      <th>EDUCATION</th>\n",
       "      <th>MARRIAGE</th>\n",
       "      <th>AGE</th>\n",
       "      <th>PAY_0</th>\n",
       "      <th>PAY_2</th>\n",
       "      <th>PAY_3</th>\n",
       "      <th>PAY_4</th>\n",
       "      <th>PAY_5</th>\n",
       "      <th>PAY_6</th>\n",
       "      <th>BILL_AMT1</th>\n",
       "      <th>BILL_AMT2</th>\n",
       "      <th>BILL_AMT3</th>\n",
       "      <th>BILL_AMT4</th>\n",
       "      <th>BILL_AMT5</th>\n",
       "      <th>BILL_AMT6</th>\n",
       "      <th>PAY_AMT1</th>\n",
       "      <th>PAY_AMT2</th>\n",
       "      <th>PAY_AMT3</th>\n",
       "      <th>PAY_AMT4</th>\n",
       "      <th>PAY_AMT5</th>\n",
       "      <th>PAY_AMT6</th>\n",
       "      <th>default.payment.next.month</th>\n",
       "    </tr>\n",
       "  </thead>\n",
       "  <tbody>\n",
       "    <tr>\n",
       "      <th>0</th>\n",
       "      <td>1</td>\n",
       "      <td>20000.0</td>\n",
       "      <td>2</td>\n",
       "      <td>2</td>\n",
       "      <td>1</td>\n",
       "      <td>24</td>\n",
       "      <td>2</td>\n",
       "      <td>2</td>\n",
       "      <td>-1</td>\n",
       "      <td>-1</td>\n",
       "      <td>-2</td>\n",
       "      <td>-2</td>\n",
       "      <td>3913.0</td>\n",
       "      <td>3102.0</td>\n",
       "      <td>689.0</td>\n",
       "      <td>0.0</td>\n",
       "      <td>0.0</td>\n",
       "      <td>0.0</td>\n",
       "      <td>0.0</td>\n",
       "      <td>689.0</td>\n",
       "      <td>0.0</td>\n",
       "      <td>0.0</td>\n",
       "      <td>0.0</td>\n",
       "      <td>0.0</td>\n",
       "      <td>1</td>\n",
       "    </tr>\n",
       "    <tr>\n",
       "      <th>1</th>\n",
       "      <td>2</td>\n",
       "      <td>120000.0</td>\n",
       "      <td>2</td>\n",
       "      <td>2</td>\n",
       "      <td>2</td>\n",
       "      <td>26</td>\n",
       "      <td>-1</td>\n",
       "      <td>2</td>\n",
       "      <td>0</td>\n",
       "      <td>0</td>\n",
       "      <td>0</td>\n",
       "      <td>2</td>\n",
       "      <td>2682.0</td>\n",
       "      <td>1725.0</td>\n",
       "      <td>2682.0</td>\n",
       "      <td>3272.0</td>\n",
       "      <td>3455.0</td>\n",
       "      <td>3261.0</td>\n",
       "      <td>0.0</td>\n",
       "      <td>1000.0</td>\n",
       "      <td>1000.0</td>\n",
       "      <td>1000.0</td>\n",
       "      <td>0.0</td>\n",
       "      <td>2000.0</td>\n",
       "      <td>1</td>\n",
       "    </tr>\n",
       "    <tr>\n",
       "      <th>2</th>\n",
       "      <td>3</td>\n",
       "      <td>90000.0</td>\n",
       "      <td>2</td>\n",
       "      <td>2</td>\n",
       "      <td>2</td>\n",
       "      <td>34</td>\n",
       "      <td>0</td>\n",
       "      <td>0</td>\n",
       "      <td>0</td>\n",
       "      <td>0</td>\n",
       "      <td>0</td>\n",
       "      <td>0</td>\n",
       "      <td>29239.0</td>\n",
       "      <td>14027.0</td>\n",
       "      <td>13559.0</td>\n",
       "      <td>14331.0</td>\n",
       "      <td>14948.0</td>\n",
       "      <td>15549.0</td>\n",
       "      <td>1518.0</td>\n",
       "      <td>1500.0</td>\n",
       "      <td>1000.0</td>\n",
       "      <td>1000.0</td>\n",
       "      <td>1000.0</td>\n",
       "      <td>5000.0</td>\n",
       "      <td>0</td>\n",
       "    </tr>\n",
       "    <tr>\n",
       "      <th>3</th>\n",
       "      <td>4</td>\n",
       "      <td>50000.0</td>\n",
       "      <td>2</td>\n",
       "      <td>2</td>\n",
       "      <td>1</td>\n",
       "      <td>37</td>\n",
       "      <td>0</td>\n",
       "      <td>0</td>\n",
       "      <td>0</td>\n",
       "      <td>0</td>\n",
       "      <td>0</td>\n",
       "      <td>0</td>\n",
       "      <td>46990.0</td>\n",
       "      <td>48233.0</td>\n",
       "      <td>49291.0</td>\n",
       "      <td>28314.0</td>\n",
       "      <td>28959.0</td>\n",
       "      <td>29547.0</td>\n",
       "      <td>2000.0</td>\n",
       "      <td>2019.0</td>\n",
       "      <td>1200.0</td>\n",
       "      <td>1100.0</td>\n",
       "      <td>1069.0</td>\n",
       "      <td>1000.0</td>\n",
       "      <td>0</td>\n",
       "    </tr>\n",
       "    <tr>\n",
       "      <th>4</th>\n",
       "      <td>5</td>\n",
       "      <td>50000.0</td>\n",
       "      <td>1</td>\n",
       "      <td>2</td>\n",
       "      <td>1</td>\n",
       "      <td>57</td>\n",
       "      <td>-1</td>\n",
       "      <td>0</td>\n",
       "      <td>-1</td>\n",
       "      <td>0</td>\n",
       "      <td>0</td>\n",
       "      <td>0</td>\n",
       "      <td>8617.0</td>\n",
       "      <td>5670.0</td>\n",
       "      <td>35835.0</td>\n",
       "      <td>20940.0</td>\n",
       "      <td>19146.0</td>\n",
       "      <td>19131.0</td>\n",
       "      <td>2000.0</td>\n",
       "      <td>36681.0</td>\n",
       "      <td>10000.0</td>\n",
       "      <td>9000.0</td>\n",
       "      <td>689.0</td>\n",
       "      <td>679.0</td>\n",
       "      <td>0</td>\n",
       "    </tr>\n",
       "  </tbody>\n",
       "</table>\n",
       "</div>"
      ],
      "text/plain": [
       "   ID  LIMIT_BAL  SEX  EDUCATION  MARRIAGE  AGE  PAY_0  PAY_2  PAY_3  PAY_4  \\\n",
       "0   1    20000.0    2          2         1   24      2      2     -1     -1   \n",
       "1   2   120000.0    2          2         2   26     -1      2      0      0   \n",
       "2   3    90000.0    2          2         2   34      0      0      0      0   \n",
       "3   4    50000.0    2          2         1   37      0      0      0      0   \n",
       "4   5    50000.0    1          2         1   57     -1      0     -1      0   \n",
       "\n",
       "   PAY_5  PAY_6  BILL_AMT1  BILL_AMT2  BILL_AMT3  BILL_AMT4  BILL_AMT5  \\\n",
       "0     -2     -2     3913.0     3102.0      689.0        0.0        0.0   \n",
       "1      0      2     2682.0     1725.0     2682.0     3272.0     3455.0   \n",
       "2      0      0    29239.0    14027.0    13559.0    14331.0    14948.0   \n",
       "3      0      0    46990.0    48233.0    49291.0    28314.0    28959.0   \n",
       "4      0      0     8617.0     5670.0    35835.0    20940.0    19146.0   \n",
       "\n",
       "   BILL_AMT6  PAY_AMT1  PAY_AMT2  PAY_AMT3  PAY_AMT4  PAY_AMT5  PAY_AMT6  \\\n",
       "0        0.0       0.0     689.0       0.0       0.0       0.0       0.0   \n",
       "1     3261.0       0.0    1000.0    1000.0    1000.0       0.0    2000.0   \n",
       "2    15549.0    1518.0    1500.0    1000.0    1000.0    1000.0    5000.0   \n",
       "3    29547.0    2000.0    2019.0    1200.0    1100.0    1069.0    1000.0   \n",
       "4    19131.0    2000.0   36681.0   10000.0    9000.0     689.0     679.0   \n",
       "\n",
       "   default.payment.next.month  \n",
       "0                           1  \n",
       "1                           1  \n",
       "2                           0  \n",
       "3                           0  \n",
       "4                           0  "
      ]
     },
     "execution_count": 8,
     "metadata": {},
     "output_type": "execute_result"
    }
   ],
   "source": [
    "credit_card.head()"
   ]
  },
  {
   "cell_type": "code",
   "execution_count": 9,
   "metadata": {},
   "outputs": [
    {
     "data": {
      "text/plain": [
       "(30000, 25)"
      ]
     },
     "execution_count": 9,
     "metadata": {},
     "output_type": "execute_result"
    }
   ],
   "source": [
    "credit_card.shape"
   ]
  },
  {
   "cell_type": "code",
   "execution_count": 11,
   "metadata": {},
   "outputs": [
    {
     "data": {
      "text/plain": [
       "0    0.7788\n",
       "1    0.2212\n",
       "Name: default.payment.next.month, dtype: float64"
      ]
     },
     "execution_count": 11,
     "metadata": {},
     "output_type": "execute_result"
    }
   ],
   "source": [
    "credit_card['default.payment.next.month'].value_counts(dropna = False) / credit_card.shape[0]"
   ]
  },
  {
   "cell_type": "markdown",
   "metadata": {},
   "source": [
    "### Define costs for false positives and false negatives\n",
    "Now introduce different costs for different errors. Let's say that the cost matrix is the following, i.e. the cost of a false negative is 10 times the cost of a false positive."
   ]
  },
  {
   "cell_type": "code",
   "execution_count": 12,
   "metadata": {},
   "outputs": [
    {
     "data": {
      "text/plain": [
       "array([[ 0,  1],\n",
       "       [10,  0]])"
      ]
     },
     "execution_count": 12,
     "metadata": {},
     "output_type": "execute_result"
    }
   ],
   "source": [
    "fraud_cost_matrix = np.array([[0, 1], [10, 0]])\n",
    "fraud_cost_matrix"
   ]
  },
  {
   "cell_type": "code",
   "execution_count": 13,
   "metadata": {},
   "outputs": [
    {
     "data": {
      "text/plain": [
       "(0, 1, 10, 0)"
      ]
     },
     "execution_count": 13,
     "metadata": {},
     "output_type": "execute_result"
    }
   ],
   "source": [
    "tn_cost, fp_cost, fn_cost, tp_cost = fraud_cost_matrix.ravel()\n",
    "tn_cost, fp_cost, fn_cost, tp_cost"
   ]
  },
  {
   "cell_type": "markdown",
   "metadata": {},
   "source": [
    "### Create weights column"
   ]
  },
  {
   "cell_type": "code",
   "execution_count": 14,
   "metadata": {},
   "outputs": [],
   "source": [
    "credit_card['weights'] = 0"
   ]
  },
  {
   "cell_type": "code",
   "execution_count": 15,
   "metadata": {},
   "outputs": [],
   "source": [
    "credit_card.loc[credit_card['default.payment.next.month'] == 0, 'weights'] = fp_cost"
   ]
  },
  {
   "cell_type": "code",
   "execution_count": 16,
   "metadata": {},
   "outputs": [],
   "source": [
    "credit_card.loc[credit_card['default.payment.next.month'] == 1, 'weights'] = fn_cost"
   ]
  },
  {
   "cell_type": "markdown",
   "metadata": {},
   "source": [
    "### Create sample column"
   ]
  },
  {
   "cell_type": "code",
   "execution_count": 17,
   "metadata": {},
   "outputs": [],
   "source": [
    "np.random.seed(1)"
   ]
  },
  {
   "cell_type": "code",
   "execution_count": 18,
   "metadata": {},
   "outputs": [],
   "source": [
    "credit_card['samp'] = np.random.randint(low = 0, high = 6, size = credit_card.shape[0])"
   ]
  },
  {
   "cell_type": "code",
   "execution_count": 19,
   "metadata": {},
   "outputs": [
    {
     "data": {
      "text/plain": [
       "0    5068\n",
       "1    4941\n",
       "2    5047\n",
       "3    5015\n",
       "4    4860\n",
       "5    5069\n",
       "Name: samp, dtype: int64"
      ]
     },
     "execution_count": 19,
     "metadata": {},
     "output_type": "execute_result"
    }
   ],
   "source": [
    "credit_card['samp'].value_counts().sort_index()"
   ]
  },
  {
   "cell_type": "markdown",
   "metadata": {},
   "source": [
    "### Create LightGBM datasets"
   ]
  },
  {
   "cell_type": "code",
   "execution_count": 20,
   "metadata": {},
   "outputs": [],
   "source": [
    "weights_col = 'weights'"
   ]
  },
  {
   "cell_type": "code",
   "execution_count": 21,
   "metadata": {},
   "outputs": [],
   "source": [
    "response_col = 'default.payment.next.month'"
   ]
  },
  {
   "cell_type": "code",
   "execution_count": 22,
   "metadata": {},
   "outputs": [],
   "source": [
    "not_explanatory_cols = [response_col, weights_col] + \\\n",
    "                       ['ID', 'samp'] "
   ]
  },
  {
   "cell_type": "code",
   "execution_count": 23,
   "metadata": {},
   "outputs": [
    {
     "data": {
      "text/plain": [
       "23"
      ]
     },
     "execution_count": 23,
     "metadata": {},
     "output_type": "execute_result"
    }
   ],
   "source": [
    "explanatory_cols = list(set(credit_card.columns.values) - set(not_explanatory_cols))\n",
    "explanatory_cols.sort()\n",
    "len(explanatory_cols)"
   ]
  },
  {
   "cell_type": "markdown",
   "metadata": {},
   "source": [
    "#### Split out columns for different samples"
   ]
  },
  {
   "cell_type": "code",
   "execution_count": 24,
   "metadata": {},
   "outputs": [],
   "source": [
    "train_expl = credit_card.loc[credit_card.samp < 4, explanatory_cols]\n",
    "val_expl = credit_card.loc[credit_card.samp == 4, explanatory_cols]\n",
    "test_expl = credit_card.loc[credit_card.samp == 5, explanatory_cols]"
   ]
  },
  {
   "cell_type": "code",
   "execution_count": 25,
   "metadata": {},
   "outputs": [
    {
     "data": {
      "text/plain": [
       "AGE            int64\n",
       "BILL_AMT1    float64\n",
       "BILL_AMT2    float64\n",
       "BILL_AMT3    float64\n",
       "BILL_AMT4    float64\n",
       "BILL_AMT5    float64\n",
       "BILL_AMT6    float64\n",
       "EDUCATION      int64\n",
       "LIMIT_BAL    float64\n",
       "MARRIAGE       int64\n",
       "PAY_0          int64\n",
       "PAY_2          int64\n",
       "PAY_3          int64\n",
       "PAY_4          int64\n",
       "PAY_5          int64\n",
       "PAY_6          int64\n",
       "PAY_AMT1     float64\n",
       "PAY_AMT2     float64\n",
       "PAY_AMT3     float64\n",
       "PAY_AMT4     float64\n",
       "PAY_AMT5     float64\n",
       "PAY_AMT6     float64\n",
       "SEX            int64\n",
       "dtype: object"
      ]
     },
     "execution_count": 25,
     "metadata": {},
     "output_type": "execute_result"
    }
   ],
   "source": [
    "train_expl.dtypes"
   ]
  },
  {
   "cell_type": "code",
   "execution_count": 26,
   "metadata": {},
   "outputs": [],
   "source": [
    "train_w = credit_card.loc[credit_card.samp < 4, weights_col]\n",
    "val_w = credit_card.loc[credit_card.samp == 4, weights_col]\n",
    "test_w = credit_card.loc[credit_card.samp == 5, weights_col]"
   ]
  },
  {
   "cell_type": "code",
   "execution_count": 27,
   "metadata": {},
   "outputs": [],
   "source": [
    "train_resp = credit_card.loc[credit_card.samp < 4, response_col]\n",
    "val_resp = credit_card.loc[credit_card.samp == 4, response_col]\n",
    "test_resp = credit_card.loc[credit_card.samp == 5, response_col]"
   ]
  },
  {
   "cell_type": "markdown",
   "metadata": {},
   "source": [
    "#### Create equal weighted dataset"
   ]
  },
  {
   "cell_type": "code",
   "execution_count": 28,
   "metadata": {},
   "outputs": [],
   "source": [
    "lgb_train = lgb.Dataset(data = train_expl, label = train_resp)\n",
    "lgb_val = lgb.Dataset(data = val_expl, label = val_resp)\n",
    "lgb_test = lgb.Dataset(data = test_expl, label = test_resp)"
   ]
  },
  {
   "cell_type": "markdown",
   "metadata": {},
   "source": [
    "#### Create reweighted dataset\n",
    "This will be used for the second model."
   ]
  },
  {
   "cell_type": "code",
   "execution_count": 29,
   "metadata": {},
   "outputs": [],
   "source": [
    "lgb_train_w = lgb.Dataset(data = train_expl, label = train_resp, weight = train_w)\n",
    "lgb_val_w = lgb.Dataset(data = val_expl, label = val_resp, weight = val_w)\n",
    "lgb_test_w = lgb.Dataset(data = test_expl, label = test_resp, weight = test_w)"
   ]
  },
  {
   "cell_type": "markdown",
   "metadata": {},
   "source": [
    "## Method 1: Optimise probability threshold\n",
    "This method adjusts the classification threshold of the models based off the costs for the problem"
   ]
  },
  {
   "cell_type": "markdown",
   "metadata": {},
   "source": [
    "### Build model"
   ]
  },
  {
   "cell_type": "code",
   "execution_count": 30,
   "metadata": {},
   "outputs": [],
   "source": [
    "params = {\n",
    "    'boosting_type': 'gbdt',\n",
    "    'objective': 'binary',\n",
    "    'metric': 'binary_logloss',\n",
    "    'num_leaves': 31,\n",
    "    'learning_rate': 0.05,\n",
    "    'feature_fraction': 0.9,\n",
    "    'bagging_fraction': 0.8,\n",
    "    'bagging_freq': 5\n",
    "}"
   ]
  },
  {
   "cell_type": "code",
   "execution_count": 31,
   "metadata": {},
   "outputs": [],
   "source": [
    "evals_result_1 = {}"
   ]
  },
  {
   "cell_type": "code",
   "execution_count": 32,
   "metadata": {
    "scrolled": true
   },
   "outputs": [],
   "source": [
    "gbm_1 = lgb.train(params,\n",
    "                  lgb_train,\n",
    "                  num_boost_round = 100,\n",
    "                  early_stopping_rounds = 5,\n",
    "                  valid_sets = [lgb_train, lgb_val],\n",
    "                  verbose_eval = False,\n",
    "                  evals_result = evals_result_1)"
   ]
  },
  {
   "cell_type": "code",
   "execution_count": 33,
   "metadata": {},
   "outputs": [
    {
     "name": "stdout",
     "output_type": "stream",
     "text": [
      "best iteration: 68\n"
     ]
    },
    {
     "data": {
      "text/plain": [
       "<matplotlib.axes._subplots.AxesSubplot at 0x1a1965ab00>"
      ]
     },
     "execution_count": 33,
     "metadata": {},
     "output_type": "execute_result"
    },
    {
     "data": {
      "image/png": "[encoded data removed]",
      "text/plain": [
       "<matplotlib.figure.Figure at 0x1a1964de48>"
      ]
     },
     "metadata": {},
     "output_type": "display_data"
    }
   ],
   "source": [
    "print('best iteration:', gbm_1.best_iteration)\n",
    "lgb.plotting.plot_metric(evals_result_1)"
   ]
  },
  {
   "cell_type": "markdown",
   "metadata": {},
   "source": [
    "### Get predictions"
   ]
  },
  {
   "cell_type": "code",
   "execution_count": 34,
   "metadata": {},
   "outputs": [],
   "source": [
    "val_pred = gbm_1.predict(val_expl, num_iteration = gbm_1.best_iteration)"
   ]
  },
  {
   "cell_type": "code",
   "execution_count": 35,
   "metadata": {},
   "outputs": [
    {
     "data": {
      "text/plain": [
       "<matplotlib.axes._subplots.AxesSubplot at 0x1a196db7f0>"
      ]
     },
     "execution_count": 35,
     "metadata": {},
     "output_type": "execute_result"
    },
    {
     "data": {
      "image/png": "[encoded data removed]",
      "text/plain": [
       "<matplotlib.figure.Figure at 0x103501f98>"
      ]
     },
     "metadata": {},
     "output_type": "display_data"
    }
   ],
   "source": [
    "pd.Series(val_pred).plot('hist', bins = 50)"
   ]
  },
  {
   "cell_type": "markdown",
   "metadata": {},
   "source": [
    "### Define evaluation functions\n",
    "Will be used for the other models too"
   ]
  },
  {
   "cell_type": "code",
   "execution_count": 36,
   "metadata": {},
   "outputs": [],
   "source": [
    "def classification_metrics(y_true, y_pred, cost_matrix = np.array([[0, 1], [1, 0]])):\n",
    "    \"\"\"Function to calculate various classification metrics\"\"\"\n",
    "    \n",
    "    confussion_matrix = metrics.confusion_matrix(y_true, y_pred)\n",
    "\n",
    "    m = {}\n",
    "    m['accuracy'] = metrics.accuracy_score(y_true, y_pred)\n",
    "    m['balanced_accuracy'] = metrics.balanced_accuracy_score(y_true, y_pred)\n",
    "    m['brier_score'] = metrics.brier_score_loss(y_true, y_pred)\n",
    "    m['precision'] = metrics.precision_score(y_true, y_pred)\n",
    "    m['recall'] = metrics.recall_score(y_true, y_pred)\n",
    "    m['f1_score'] = metrics.f1_score(y_true, y_pred)\n",
    "    m['roc_auc'] = metrics.roc_auc_score(y_true, y_pred)\n",
    "    m['cost'] = np.multiply(cost_matrix, confussion_matrix).sum()\n",
    "    \n",
    "    return(m, confussion_matrix)    "
   ]
  },
  {
   "cell_type": "code",
   "execution_count": 37,
   "metadata": {},
   "outputs": [],
   "source": [
    "def cutoff_cost_curve(y_true, y_pred, cost_matrix):\n",
    "    \"\"\"Function to loop through 100 different probability cut off and calculate the cost for each one\"\"\"\n",
    "    \n",
    "    costs = pd.DataFrame(columns = ['cutoff', 'cost'])\n",
    "    \n",
    "    for i in np.linspace(0, 1, 101):\n",
    "        eval_metrics, confussion_mat = classification_metrics(y_true, y_pred > float(i), cost_matrix)\n",
    "        costs = costs.append(pd.DataFrame({'cutoff': i, 'cost': eval_metrics['cost']}, index = [i]))\n",
    "        \n",
    "    return(costs)"
   ]
  },
  {
   "cell_type": "markdown",
   "metadata": {},
   "source": [
    "### Evaluate model"
   ]
  },
  {
   "cell_type": "code",
   "execution_count": 38,
   "metadata": {},
   "outputs": [],
   "source": [
    "m, conf_mat = classification_metrics(y_true = val_resp, y_pred = val_pred > 0.5, cost_matrix = fraud_cost_matrix)"
   ]
  },
  {
   "cell_type": "code",
   "execution_count": 39,
   "metadata": {},
   "outputs": [
    {
     "data": {
      "text/plain": [
       "{'accuracy': 0.8292181069958847,\n",
       " 'balanced_accuracy': 0.6613776061940606,\n",
       " 'brier_score': 0.17078189300411523,\n",
       " 'cost': 6662,\n",
       " 'f1_score': 0.47864321608040195,\n",
       " 'precision': 0.6767317939609236,\n",
       " 'recall': 0.37026239067055394,\n",
       " 'roc_auc': 0.6613776061940606}"
      ]
     },
     "execution_count": 39,
     "metadata": {},
     "output_type": "execute_result"
    }
   ],
   "source": [
    "m"
   ]
  },
  {
   "cell_type": "code",
   "execution_count": 40,
   "metadata": {},
   "outputs": [
    {
     "data": {
      "text/plain": [
       "array([[3649,  182],\n",
       "       [ 648,  381]])"
      ]
     },
     "execution_count": 40,
     "metadata": {},
     "output_type": "execute_result"
    }
   ],
   "source": [
    "conf_mat"
   ]
  },
  {
   "cell_type": "code",
   "execution_count": 41,
   "metadata": {},
   "outputs": [],
   "source": [
    "val_costs = cutoff_cost_curve(y_true = val_resp, y_pred = val_pred, cost_matrix = fraud_cost_matrix)"
   ]
  },
  {
   "cell_type": "code",
   "execution_count": 42,
   "metadata": {},
   "outputs": [
    {
     "name": "stdout",
     "output_type": "stream",
     "text": [
      "      cutoff  cost\n",
      "0.09    0.09  3272\n"
     ]
    },
    {
     "data": {
      "text/plain": [
       "<matplotlib.axes._subplots.AxesSubplot at 0x1a16edaba8>"
      ]
     },
     "execution_count": 42,
     "metadata": {},
     "output_type": "execute_result"
    },
    {
     "data": {
      "image/png": "[encoded data removed]",
      "text/plain": [
       "<matplotlib.figure.Figure at 0x1a196eaeb8>"
      ]
     },
     "metadata": {},
     "output_type": "display_data"
    }
   ],
   "source": [
    "print(val_costs.loc[val_costs.cost == val_costs.cost.min()])\n",
    "val_costs.plot(x = 'cutoff', y = 'cost', title = 'Costs for different probability thresholds')"
   ]
  },
  {
   "cell_type": "markdown",
   "metadata": {},
   "source": [
    "Note the optimium cutoff, based off costs for the errors, is far from the cutoff of 0.5."
   ]
  },
  {
   "cell_type": "code",
   "execution_count": 67,
   "metadata": {},
   "outputs": [],
   "source": [
    "m, conf_mat = classification_metrics(y_true = val_resp, y_pred = val_pred > 0.09, cost_matrix = fraud_cost_matrix)"
   ]
  },
  {
   "cell_type": "code",
   "execution_count": 68,
   "metadata": {},
   "outputs": [
    {
     "data": {
      "text/plain": [
       "{'accuracy': 0.4082304526748971,\n",
       " 'balanced_accuracy': 0.6090037312609349,\n",
       " 'brier_score': 0.5917695473251029,\n",
       " 'cost': 3272,\n",
       " 'f1_score': 0.4065208419314899,\n",
       " 'precision': 0.2580560649724915,\n",
       " 'recall': 0.9572400388726919,\n",
       " 'roc_auc': 0.6090037312609349}"
      ]
     },
     "execution_count": 68,
     "metadata": {},
     "output_type": "execute_result"
    }
   ],
   "source": [
    "m"
   ]
  },
  {
   "cell_type": "code",
   "execution_count": 69,
   "metadata": {},
   "outputs": [
    {
     "data": {
      "text/plain": [
       "array([[ 999, 2832],\n",
       "       [  44,  985]])"
      ]
     },
     "execution_count": 69,
     "metadata": {},
     "output_type": "execute_result"
    }
   ],
   "source": [
    "conf_mat"
   ]
  },
  {
   "cell_type": "markdown",
   "metadata": {},
   "source": [
    "## Method 2: Reweight training data\n",
    "This method reweights observations in the training dataset according to the costs for the different errors. The default records have been given a higher weight so errors are penalised more in training."
   ]
  },
  {
   "cell_type": "markdown",
   "metadata": {},
   "source": [
    "### Build model"
   ]
  },
  {
   "cell_type": "code",
   "execution_count": 43,
   "metadata": {},
   "outputs": [],
   "source": [
    "evals_result_2 = {}"
   ]
  },
  {
   "cell_type": "code",
   "execution_count": 44,
   "metadata": {
    "scrolled": true
   },
   "outputs": [],
   "source": [
    "gbm_2 = lgb.train(params,\n",
    "                  lgb_train_w,\n",
    "                  num_boost_round = 100,\n",
    "                  early_stopping_rounds = 5,\n",
    "                  valid_sets = [lgb_train_w, lgb_val_w],\n",
    "                  verbose_eval = False,\n",
    "                  evals_result = evals_result_2)"
   ]
  },
  {
   "cell_type": "code",
   "execution_count": 45,
   "metadata": {},
   "outputs": [
    {
     "name": "stdout",
     "output_type": "stream",
     "text": [
      "best iteration: 53\n"
     ]
    },
    {
     "data": {
      "text/plain": [
       "<matplotlib.axes._subplots.AxesSubplot at 0x1a16ed26d8>"
      ]
     },
     "execution_count": 45,
     "metadata": {},
     "output_type": "execute_result"
    },
    {
     "data": {
      "image/png": "[encoded data removed]",
      "text/plain": [
       "<matplotlib.figure.Figure at 0x1a16f53f60>"
      ]
     },
     "metadata": {},
     "output_type": "display_data"
    }
   ],
   "source": [
    "print('best iteration:', gbm_2.best_iteration)\n",
    "lgb.plotting.plot_metric(evals_result_2)"
   ]
  },
  {
   "cell_type": "markdown",
   "metadata": {},
   "source": [
    "### Get predictions"
   ]
  },
  {
   "cell_type": "code",
   "execution_count": 46,
   "metadata": {},
   "outputs": [],
   "source": [
    "val_pred_2 = gbm_2.predict(val_expl, num_iteration = gbm_2.best_iteration)"
   ]
  },
  {
   "cell_type": "code",
   "execution_count": 47,
   "metadata": {},
   "outputs": [
    {
     "data": {
      "text/plain": [
       "<matplotlib.axes._subplots.AxesSubplot at 0x1a17472240>"
      ]
     },
     "execution_count": 47,
     "metadata": {},
     "output_type": "execute_result"
    },
    {
     "data": {
      "image/png": "[encoded data removed]",
      "text/plain": [
       "<matplotlib.figure.Figure at 0x1a18d3c978>"
      ]
     },
     "metadata": {},
     "output_type": "display_data"
    }
   ],
   "source": [
    "pd.Series(val_pred_2).plot('hist', bins = 50)"
   ]
  },
  {
   "cell_type": "markdown",
   "metadata": {},
   "source": [
    "### Evaluate model"
   ]
  },
  {
   "cell_type": "code",
   "execution_count": 48,
   "metadata": {},
   "outputs": [],
   "source": [
    "m2, conf_mat2 = classification_metrics(y_true = val_resp, y_pred = val_pred_2 > 0.5, cost_matrix = fraud_cost_matrix)"
   ]
  },
  {
   "cell_type": "code",
   "execution_count": 49,
   "metadata": {},
   "outputs": [
    {
     "data": {
      "text/plain": [
       "{'accuracy': 0.46255144032921813,\n",
       " 'balanced_accuracy': 0.6306652877058643,\n",
       " 'brier_score': 0.5374485596707819,\n",
       " 'cost': 3332,\n",
       " 'f1_score': 0.4208425720620843,\n",
       " 'precision': 0.27262280953748924,\n",
       " 'recall': 0.9222546161321672,\n",
       " 'roc_auc': 0.6306652877058643}"
      ]
     },
     "execution_count": 49,
     "metadata": {},
     "output_type": "execute_result"
    }
   ],
   "source": [
    "m2"
   ]
  },
  {
   "cell_type": "code",
   "execution_count": 50,
   "metadata": {},
   "outputs": [
    {
     "data": {
      "text/plain": [
       "array([[1299, 2532],\n",
       "       [  80,  949]])"
      ]
     },
     "execution_count": 50,
     "metadata": {},
     "output_type": "execute_result"
    }
   ],
   "source": [
    "conf_mat2"
   ]
  },
  {
   "cell_type": "code",
   "execution_count": 51,
   "metadata": {},
   "outputs": [],
   "source": [
    "val_costs_2 = cutoff_cost_curve(y_true = val_resp, y_pred = val_pred_2, cost_matrix = fraud_cost_matrix)"
   ]
  },
  {
   "cell_type": "code",
   "execution_count": 52,
   "metadata": {},
   "outputs": [
    {
     "name": "stdout",
     "output_type": "stream",
     "text": [
      "      cutoff  cost\n",
      "0.51    0.51  3321\n"
     ]
    },
    {
     "data": {
      "text/plain": [
       "<matplotlib.axes._subplots.AxesSubplot at 0x1a16f6fe48>"
      ]
     },
     "execution_count": 52,
     "metadata": {},
     "output_type": "execute_result"
    },
    {
     "data": {
      "image/png": "[encoded data removed]",
      "text/plain": [
       "<matplotlib.figure.Figure at 0x1a197833c8>"
      ]
     },
     "metadata": {},
     "output_type": "display_data"
    }
   ],
   "source": [
    "print(val_costs_2.loc[val_costs_2.cost == val_costs_2.cost.min()])\n",
    "val_costs_2.plot(x = 'cutoff', y = 'cost', title = 'Costs for different probability thresholds')"
   ]
  },
  {
   "cell_type": "markdown",
   "metadata": {},
   "source": [
    "Notice that the optimium cutoff is much closer to 0.5 now that the dataset has been balanced."
   ]
  },
  {
   "cell_type": "code",
   "execution_count": 64,
   "metadata": {},
   "outputs": [],
   "source": [
    "m2, conf_mat2 = classification_metrics(y_true = val_resp, y_pred = val_pred_2 > 0.51, cost_matrix = fraud_cost_matrix)"
   ]
  },
  {
   "cell_type": "code",
   "execution_count": 65,
   "metadata": {},
   "outputs": [
    {
     "data": {
      "text/plain": [
       "{'accuracy': 0.4740740740740741,\n",
       " 'balanced_accuracy': 0.6361971122490835,\n",
       " 'brier_score': 0.5259259259259259,\n",
       " 'cost': 3321,\n",
       " 'f1_score': 0.42484248424842486,\n",
       " 'precision': 0.27642752562225475,\n",
       " 'recall': 0.9173955296404276,\n",
       " 'roc_auc': 0.6361971122490835}"
      ]
     },
     "execution_count": 65,
     "metadata": {},
     "output_type": "execute_result"
    }
   ],
   "source": [
    "m2"
   ]
  },
  {
   "cell_type": "code",
   "execution_count": 66,
   "metadata": {},
   "outputs": [
    {
     "data": {
      "text/plain": [
       "array([[1360, 2471],\n",
       "       [  85,  944]])"
      ]
     },
     "execution_count": 66,
     "metadata": {},
     "output_type": "execute_result"
    }
   ],
   "source": [
    "conf_mat2"
   ]
  },
  {
   "cell_type": "markdown",
   "metadata": {},
   "source": [
    "## Method 3: Cost sensitive loss function\n",
    "In this method we optimise a different loss function which accounts for the cost differences for our data. <br>\n",
    "The derivation for loss function is shown in the last section of the notebook."
   ]
  },
  {
   "cell_type": "markdown",
   "metadata": {},
   "source": [
    "### Define cost sensitive loss function\n",
    "First define the cost function, it must return the first and second derivates - this is required by LightGBM to optimise a custom loss function. <br>\n",
    "See https://github.com/Microsoft/LightGBM/blob/master/examples/python-guide/advanced_example.py#L140 for an exmaple of log loss defined in this way."
   ]
  },
  {
   "cell_type": "markdown",
   "metadata": {},
   "source": [
    "Plugging the values of $\\lambda = 10$ (relative false negative weight) and $\\mu = 1$ (relative false positive weight) into the first and second derivate equations at the bottom of the notebook result in the following formulas; <br>\n",
    "$$\\frac{\\partial L}{\\partial X} = 9py + p - 10y$$ <br>\n",
    "$$\\frac{\\partial^{2} L}{\\partial X^{2}} = (9y +1)(1 - p)p$$ <br>\n",
    "These are implemented below;"
   ]
  },
  {
   "cell_type": "code",
   "execution_count": 53,
   "metadata": {},
   "outputs": [],
   "source": [
    "def cost_sensitive_loss(y_hat, dtrain):\n",
    "    \"\"\"Cost sensitive loss function to account for different costs for different errors\"\"\"\n",
    "    y = dtrain.get_label()\n",
    "    p = 1. / (1. + np.exp(-y_hat))\n",
    "    grad = (9 * p * y) + p - (10 * y)\n",
    "    hess = ((9 * y) + 1) * (p * (1.0 - p))\n",
    "    return grad, hess"
   ]
  },
  {
   "cell_type": "markdown",
   "metadata": {},
   "source": [
    "### Build model"
   ]
  },
  {
   "cell_type": "code",
   "execution_count": 54,
   "metadata": {},
   "outputs": [],
   "source": [
    "evals_result_3 = {}"
   ]
  },
  {
   "cell_type": "code",
   "execution_count": 55,
   "metadata": {
    "scrolled": true
   },
   "outputs": [],
   "source": [
    "gbm_3 = lgb.train(params,\n",
    "                  lgb_train,\n",
    "                  num_boost_round = 100,\n",
    "                  early_stopping_rounds = 5,\n",
    "                  fobj = cost_sensitive_loss,\n",
    "                  valid_sets = [lgb_train, lgb_val], \n",
    "                  verbose_eval = False,\n",
    "                  evals_result = evals_result_3)"
   ]
  },
  {
   "cell_type": "code",
   "execution_count": 56,
   "metadata": {},
   "outputs": [
    {
     "name": "stdout",
     "output_type": "stream",
     "text": [
      "best iteration: 6\n"
     ]
    },
    {
     "data": {
      "text/plain": [
       "<matplotlib.axes._subplots.AxesSubplot at 0x1a18d64a90>"
      ]
     },
     "execution_count": 56,
     "metadata": {},
     "output_type": "execute_result"
    },
    {
     "data": {
      "image/png": "[encoded data removed]",
      "text/plain": [
       "<matplotlib.figure.Figure at 0x1a16e10ef0>"
      ]
     },
     "metadata": {},
     "output_type": "display_data"
    }
   ],
   "source": [
    "print('best iteration:', gbm_3.best_iteration)\n",
    "lgb.plotting.plot_metric(evals_result_3)"
   ]
  },
  {
   "cell_type": "markdown",
   "metadata": {},
   "source": [
    "### Get predictions"
   ]
  },
  {
   "cell_type": "code",
   "execution_count": 57,
   "metadata": {},
   "outputs": [],
   "source": [
    "val_pred_3 = gbm_3.predict(val_expl, num_iteration = gbm_3.best_iteration) "
   ]
  },
  {
   "cell_type": "code",
   "execution_count": 58,
   "metadata": {},
   "outputs": [
    {
     "data": {
      "text/plain": [
       "<matplotlib.axes._subplots.AxesSubplot at 0x1a18d59358>"
      ]
     },
     "execution_count": 58,
     "metadata": {},
     "output_type": "execute_result"
    },
    {
     "data": {
      "image/png": "[encoded data removed]",
      "text/plain": [
       "<matplotlib.figure.Figure at 0x1a16fd2748>"
      ]
     },
     "metadata": {},
     "output_type": "display_data"
    }
   ],
   "source": [
    "pd.Series(val_pred_3).plot('hist', bins = 50)"
   ]
  },
  {
   "cell_type": "markdown",
   "metadata": {},
   "source": [
    "### Evaluate model"
   ]
  },
  {
   "cell_type": "code",
   "execution_count": 59,
   "metadata": {},
   "outputs": [],
   "source": [
    "m3, conf_mat3 = classification_metrics(y_true = val_resp, y_pred = val_pred_3 > 0.5, cost_matrix = fraud_cost_matrix)"
   ]
  },
  {
   "cell_type": "code",
   "execution_count": 60,
   "metadata": {},
   "outputs": [
    {
     "data": {
      "text/plain": [
       "{'accuracy': 0.7882716049382716,\n",
       " 'balanced_accuracy': 0.5,\n",
       " 'brier_score': 0.21172839506172839,\n",
       " 'cost': 10290,\n",
       " 'f1_score': 0.0,\n",
       " 'precision': 0.0,\n",
       " 'recall': 0.0,\n",
       " 'roc_auc': 0.5}"
      ]
     },
     "execution_count": 60,
     "metadata": {},
     "output_type": "execute_result"
    }
   ],
   "source": [
    "m3"
   ]
  },
  {
   "cell_type": "code",
   "execution_count": 61,
   "metadata": {},
   "outputs": [
    {
     "data": {
      "text/plain": [
       "array([[3831,    0],\n",
       "       [1029,    0]])"
      ]
     },
     "execution_count": 61,
     "metadata": {},
     "output_type": "execute_result"
    }
   ],
   "source": [
    "conf_mat3"
   ]
  },
  {
   "cell_type": "code",
   "execution_count": 62,
   "metadata": {},
   "outputs": [],
   "source": [
    "val_costs_3 = cutoff_cost_curve(y_true = val_resp, y_pred = val_pred_3, cost_matrix = fraud_cost_matrix)"
   ]
  },
  {
   "cell_type": "code",
   "execution_count": 63,
   "metadata": {},
   "outputs": [
    {
     "name": "stdout",
     "output_type": "stream",
     "text": [
      "      cutoff  cost\n",
      "0.02    0.02  3375\n"
     ]
    },
    {
     "data": {
      "text/plain": [
       "<matplotlib.axes._subplots.AxesSubplot at 0x1a18b90320>"
      ]
     },
     "execution_count": 63,
     "metadata": {},
     "output_type": "execute_result"
    },
    {
     "data": {
      "image/png": "[encoded data removed]",
      "text/plain": [
       "<matplotlib.figure.Figure at 0x1a173fef60>"
      ]
     },
     "metadata": {},
     "output_type": "display_data"
    }
   ],
   "source": [
    "print(val_costs_3.loc[val_costs_3.cost == val_costs_3.cost.min()])\n",
    "val_costs_3.plot(x = 'cutoff', y = 'cost', title = 'Costs for different probability thresholds')"
   ]
  },
  {
   "cell_type": "markdown",
   "metadata": {},
   "source": [
    "Notice that the optimium cutoff is much closer to 0.5 now that the dataset has been balanced."
   ]
  },
  {
   "cell_type": "code",
   "execution_count": 70,
   "metadata": {},
   "outputs": [],
   "source": [
    "m3, conf_mat3 = classification_metrics(y_true = val_resp, y_pred = val_pred_3 > 0.02, cost_matrix = fraud_cost_matrix)"
   ]
  },
  {
   "cell_type": "code",
   "execution_count": 71,
   "metadata": {},
   "outputs": [
    {
     "data": {
      "text/plain": [
       "{'accuracy': 0.44074074074074077,\n",
       " 'balanced_accuracy': 0.6193185407063597,\n",
       " 'brier_score': 0.5592592592592592,\n",
       " 'cost': 3375,\n",
       " 'f1_score': 0.41295896328293735,\n",
       " 'precision': 0.2654818106081644,\n",
       " 'recall': 0.9290573372206026,\n",
       " 'roc_auc': 0.6193185407063597}"
      ]
     },
     "execution_count": 71,
     "metadata": {},
     "output_type": "execute_result"
    }
   ],
   "source": [
    "m3"
   ]
  },
  {
   "cell_type": "code",
   "execution_count": 72,
   "metadata": {},
   "outputs": [
    {
     "data": {
      "text/plain": [
       "array([[1186, 2645],\n",
       "       [  73,  956]])"
      ]
     },
     "execution_count": 72,
     "metadata": {},
     "output_type": "execute_result"
    }
   ],
   "source": [
    "conf_mat3"
   ]
  },
  {
   "cell_type": "markdown",
   "metadata": {},
   "source": [
    "## Derivation of first and second derivatives for log loss function"
   ]
  },
  {
   "cell_type": "markdown",
   "metadata": {},
   "source": [
    "### Log loss derivation"
   ]
  },
  {
   "cell_type": "markdown",
   "metadata": {},
   "source": [
    "First define the loss function as follows;"
   ]
  },
  {
   "cell_type": "markdown",
   "metadata": {},
   "source": [
    "\\begin{equation}\n",
    "Loss = -y log(p) - (1 - y)log(1 - p)\n",
    "\\end{equation}"
   ]
  },
  {
   "cell_type": "markdown",
   "metadata": {},
   "source": [
    "This is made up of the sum of false negative and false positive errors;"
   ]
  },
  {
   "cell_type": "markdown",
   "metadata": {},
   "source": [
    "\\begin{equation}\n",
    "FN = y log(p) \\\\\n",
    "FP = (1 - y)log(1 - p) \n",
    "\\end{equation}"
   ]
  },
  {
   "cell_type": "markdown",
   "metadata": {},
   "source": [
    "p is given by the following;"
   ]
  },
  {
   "cell_type": "markdown",
   "metadata": {},
   "source": [
    "\\begin{equation}\n",
    "p = \\frac{1}{1 + e^{-X}}\n",
    "\\end{equation}"
   ]
  },
  {
   "cell_type": "markdown",
   "metadata": {},
   "source": [
    "The derivative of p (will need it later) is as follows;"
   ]
  },
  {
   "cell_type": "markdown",
   "metadata": {},
   "source": [
    "\\begin{equation}\n",
    "\\frac{\\partial p}{\\partial X} = \\frac{-1}{(1 + e^{-X})^{2}} \\frac{\\partial (1 + e^{-X})}{\\partial X} \\\\\n",
    "= \\frac{-1}{(1 + e^{-X})^{2}} -e^{-x} \\\\\n",
    "= \\frac{e^{-x}}{(1 + e^{-X})^{2}}\n",
    "\\end{equation}"
   ]
  },
  {
   "cell_type": "markdown",
   "metadata": {},
   "source": [
    "Similarly, 1 - p is defined as;"
   ]
  },
  {
   "cell_type": "markdown",
   "metadata": {},
   "source": [
    "\\begin{equation}\n",
    "1- p = 1 - \\frac{1}{1 + e^{-X}} \\\\\n",
    "= \\frac{1 + e^{-X} - 1}{1 + e^{-X}} \\\\\n",
    "= \\frac{e^{-X}}{1 + e^{-X}} \n",
    "\\end{equation}"
   ]
  },
  {
   "cell_type": "markdown",
   "metadata": {},
   "source": [
    "And it's derivative;"
   ]
  },
  {
   "cell_type": "markdown",
   "metadata": {},
   "source": [
    "\\begin{equation}\n",
    "\\frac{\\partial (1 - p)}{\\partial X} = -\\frac{\\partial p}{\\partial X} \\\\\n",
    "= -\\frac{e^{-X}}{1 + e^{-X}} \n",
    "\\end{equation}"
   ]
  },
  {
   "cell_type": "markdown",
   "metadata": {},
   "source": [
    "We can rearrange the loss function to;"
   ]
  },
  {
   "cell_type": "markdown",
   "metadata": {},
   "source": [
    "\\begin{equation}\n",
    "-Loss = FN + FP\n",
    "\\end{equation}"
   ]
  },
  {
   "cell_type": "markdown",
   "metadata": {},
   "source": [
    "Then the first derivative becomes;"
   ]
  },
  {
   "cell_type": "markdown",
   "metadata": {},
   "source": [
    "\\begin{equation}\n",
    "-\\frac{\\partial Loss}{\\partial X} = \\frac{\\partial FN}{\\partial X} + \\frac{\\partial FP}{\\partial X}\n",
    "\\end{equation}"
   ]
  },
  {
   "cell_type": "markdown",
   "metadata": {},
   "source": [
    "The derivative of the false negative element is as follows;"
   ]
  },
  {
   "cell_type": "markdown",
   "metadata": {},
   "source": [
    "\\begin{equation}\n",
    "\\frac{\\partial FN}{\\partial X} = y \\frac{\\partial log(p)}{\\partial X} \\\\\n",
    "= y \\frac{\\partial log(p)}{\\partial p} \\frac{\\partial p}{\\partial X} \\\\\n",
    "= y \\frac{1}{p} \\frac{\\partial p}{\\partial X} \\\\\n",
    "= y \\frac{1}{p} \\frac{e^{-X}}{(1 + e^{-X})^{2}} \\\\\n",
    "= y \\frac{1 + e^{-X}}{1} \\frac{e^{-X}}{(1 + e^{-X})^{2}} \\\\\n",
    "= \\frac{y e^{-X}}{1 + e^{-X}}\n",
    "\\end{equation}"
   ]
  },
  {
   "cell_type": "markdown",
   "metadata": {},
   "source": [
    "And the derivative of the false positive element;"
   ]
  },
  {
   "cell_type": "markdown",
   "metadata": {},
   "source": [
    "\\begin{equation}\n",
    "\\frac{\\partial FP}{\\partial X} = (1 - y) \\frac{\\partial log(1 - p)}{\\partial X} \\\\\n",
    "= (1 - y) \\frac{1}{1 - p} \\frac{\\partial (1 - p)}{\\partial X} \\\\\n",
    "= (1 - y) \\frac{1 + e^{-X}}{e^{-X}} \\frac{-e^{-X}}{(1 + e^{-X})^{2}} \\\\\n",
    "= \\frac{-(1 - y)}{1 + e^{-X}}\n",
    "\\end{equation}"
   ]
  },
  {
   "cell_type": "markdown",
   "metadata": {},
   "source": [
    "Bring the two components together for the first derivative of the loss;"
   ]
  },
  {
   "cell_type": "markdown",
   "metadata": {},
   "source": [
    "\\begin{equation}\n",
    "-\\frac{\\partial Loss}{\\partial X} = \\frac{\\partial FN}{\\partial X} + \\frac{\\partial FP}{\\partial X} \\\\\n",
    "= \\frac{y e^{-X}}{1 + e^{-X}} - \\frac{(1 - y)}{1 + e^{-X}} \\\\\n",
    "= \\frac{y(e^{-X} + 1) - 1}{1 + e^{-X}} \\\\\n",
    "= y - p\n",
    "\\end{equation}"
   ]
  },
  {
   "cell_type": "markdown",
   "metadata": {},
   "source": [
    "Finally;"
   ]
  },
  {
   "cell_type": "markdown",
   "metadata": {},
   "source": [
    "\\begin{equation}\n",
    "\\frac{\\partial Loss}{\\partial X} = p - y\n",
    "\\end{equation}"
   ]
  },
  {
   "cell_type": "markdown",
   "metadata": {},
   "source": [
    "Now for the second derivative;"
   ]
  },
  {
   "cell_type": "markdown",
   "metadata": {},
   "source": [
    "\\begin{equation}\n",
    "\\frac{\\partial^{2} Loss}{\\partial X^{2}} = \\frac{\\partial (p - y)}{\\partial X} = \\frac{\\partial p}{\\partial X} \\\\\n",
    "= \\frac{e^{-X}}{(1 + e^{-X})^{2}} \\\\\n",
    "= \\frac{1}{1 + e^{-X}} \\frac{e^{-X}}{1 + e^{-X}} \n",
    "\\end{equation}"
   ]
  },
  {
   "cell_type": "markdown",
   "metadata": {},
   "source": [
    "These elements can be seen as p and (1 - p) respectively;"
   ]
  },
  {
   "cell_type": "markdown",
   "metadata": {},
   "source": [
    "\\begin{equation}\n",
    "\\frac{\\partial^{2} Loss}{\\partial X^{2}} = p(1 - p)\n",
    "\\end{equation}"
   ]
  },
  {
   "cell_type": "markdown",
   "metadata": {},
   "source": [
    "These equations for the first and second derivates of the loss function can be seen implemented here; https://github.com/Microsoft/LightGBM/blob/master/examples/python-guide/advanced_example.py#L140."
   ]
  },
  {
   "cell_type": "markdown",
   "metadata": {},
   "source": [
    "### Cost sensitive loss derivation"
   ]
  },
  {
   "cell_type": "markdown",
   "metadata": {},
   "source": [
    "Now define the cost sensitive loss function as;"
   ]
  },
  {
   "cell_type": "markdown",
   "metadata": {},
   "source": [
    "\\begin{equation}\n",
    "-Loss = \\lambda FN + \\mu FP\n",
    "\\end{equation}"
   ]
  },
  {
   "cell_type": "markdown",
   "metadata": {},
   "source": [
    "The first derivative is as follows;"
   ]
  },
  {
   "cell_type": "markdown",
   "metadata": {},
   "source": [
    "\\begin{equation}\n",
    "-\\frac{\\partial Loss}{\\partial X} = \\lambda \\frac{\\partial FN}{\\partial X} + \\mu \\frac{\\partial FP}{\\partial X} \\\\\n",
    "= \\lambda \\frac{y e^{-X}}{1 + e^{-X}} + \\mu \\frac{-(1 - y)}{1 + e^{-X}} \\\\\n",
    "= \\frac{\\lambda y e^{-X} - \\mu + \\mu y}{1 + e^{-X}} \\\\\n",
    "= \\lambda y e^{-X} p - \\mu p + \\mu y p\n",
    "\\end{equation}"
   ]
  },
  {
   "cell_type": "markdown",
   "metadata": {},
   "source": [
    "Note that;"
   ]
  },
  {
   "cell_type": "markdown",
   "metadata": {},
   "source": [
    "\\begin{equation}\n",
    "p = \\frac{1}{1 + e^{-X}}\n",
    "\\end{equation}"
   ]
  },
  {
   "cell_type": "markdown",
   "metadata": {},
   "source": [
    "Therefore;"
   ]
  },
  {
   "cell_type": "markdown",
   "metadata": {},
   "source": [
    "\\begin{equation}\n",
    "e^{-X} = \\frac{1 - p}{p}\n",
    "\\end{equation}"
   ]
  },
  {
   "cell_type": "markdown",
   "metadata": {},
   "source": [
    "So;"
   ]
  },
  {
   "cell_type": "markdown",
   "metadata": {},
   "source": [
    "\\begin{equation}\n",
    "-\\frac{\\partial Loss}{\\partial X} = \\lambda y p \\frac{1 - p}{p} - \\mu p + \\mu y p \\\\\n",
    "= \\lambda y (1 - p) - \\mu p + \\mu y p \\\\\n",
    "= \\lambda y - \\lambda y p - \\mu p + \\mu y p \\\\\n",
    "= \\lambda y - \\mu p + y p (\\mu - \\lambda) \n",
    "\\end{equation}"
   ]
  },
  {
   "cell_type": "markdown",
   "metadata": {},
   "source": [
    "Hence;"
   ]
  },
  {
   "cell_type": "markdown",
   "metadata": {},
   "source": [
    "\\begin{equation}\n",
    "\\frac{\\partial Loss}{\\partial X} = \\mu p - \\lambda y + y p (\\lambda - \\mu) \n",
    "\\end{equation}"
   ]
  },
  {
   "cell_type": "markdown",
   "metadata": {},
   "source": [
    "Now the second derivative is;"
   ]
  },
  {
   "cell_type": "markdown",
   "metadata": {},
   "source": [
    "\\begin{equation}\n",
    "\\frac{\\partial^{2} Loss}{\\partial X^{2}} = \\frac{\\partial (\\mu p - \\lambda y + y p (\\lambda - \\mu))}{\\partial X} \\\\\n",
    "= \\mu \\frac{\\partial p}{\\partial X} + (\\lambda - \\mu) y \\frac{\\partial p}{\\partial X} \\\\\n",
    "= (\\mu + \\lambda y - \\mu y) \\frac{\\partial p}{\\partial X} \\\\\n",
    "= (\\mu + \\lambda y - \\mu y) \\frac{e^{-x}}{(1 + e^{-X})^{2}} \\\\\n",
    "= (\\mu + \\lambda y - \\mu y) e^{-x} p^{2} \\\\\n",
    "= (\\mu + \\lambda y - \\mu y) \\frac{1 - p}{p} p^{2} \\\\\n",
    "= (\\mu + \\lambda y - \\mu y) (1 - p)p \n",
    "\\end{equation}"
   ]
  },
  {
   "cell_type": "code",
   "execution_count": null,
   "metadata": {},
   "outputs": [],
   "source": []
  },
  {
   "cell_type": "code",
   "execution_count": null,
   "metadata": {},
   "outputs": [],
   "source": []
  },
  {
   "cell_type": "code",
   "execution_count": null,
   "metadata": {},
   "outputs": [],
   "source": []
  }
 ],
 "metadata": {
  "kernelspec": {
   "display_name": "Python 3",
   "language": "python",
   "name": "python3"
  },
  "language_info": {
   "codemirror_mode": {
    "name": "ipython",
    "version": 3
   },
   "file_extension": ".py",
   "mimetype": "text/x-python",
   "name": "python",
   "nbconvert_exporter": "python",
   "pygments_lexer": "ipython3",
   "version": "3.6.4"
  },
  "toc": {
   "nav_menu": {},
   "number_sections": false,
   "sideBar": true,
   "skip_h1_title": false,
   "toc_cell": true,
   "toc_position": {
    "height": "691.117px",
    "left": "0px",
    "right": "1548px",
    "top": "110.883px",
    "width": "212px"
   },
   "toc_section_display": "block",
   "toc_window_display": true
  },
  "varInspector": {
   "cols": {
    "lenName": 16,
    "lenType": 16,
    "lenVar": 40
   },
   "kernels_config": {
    "python": {
     "delete_cmd_postfix": "",
     "delete_cmd_prefix": "del ",
     "library": "var_list.py",
     "varRefreshCmd": "print(var_dic_list())"
    },
    "r": {
     "delete_cmd_postfix": ") ",
     "delete_cmd_prefix": "rm(",
     "library": "var_list.r",
     "varRefreshCmd": "cat(var_dic_list()) "
    }
   },
   "types_to_exclude": [
    "module",
    "function",
    "builtin_function_or_method",
    "instance",
    "_Feature"
   ],
   "window_display": false
  }
 },
 "nbformat": 4,
 "nbformat_minor": 2
}
