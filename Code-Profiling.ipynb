{
 "cells": [
  {
   "cell_type": "markdown",
   "metadata": {},
   "source": [
    "# Code-Profiling\n",
    "This notebook shows 3 different ways of using [line_profiler](https://github.com/rkern/line_profiler#line-profiler) to profile the runtime of Python code line by line."
   ]
  },
  {
   "cell_type": "markdown",
   "metadata": {},
   "source": [
    "## Runtime profiling with line_profiler"
   ]
  },
  {
   "cell_type": "markdown",
   "metadata": {},
   "source": [
    "### Using line_profiler within session"
   ]
  },
  {
   "cell_type": "code",
   "execution_count": 1,
   "metadata": {},
   "outputs": [],
   "source": [
    "from line_profiler import LineProfiler"
   ]
  },
  {
   "cell_type": "code",
   "execution_count": 2,
   "metadata": {},
   "outputs": [],
   "source": [
    "def function_1(n):\n",
    "    for i in range(n):\n",
    "        x = [5 * j for j in range(10000)]\n",
    "        y = function_2(n)\n",
    "    \n",
    "def function_2(n):\n",
    "    s1 = [i for i in range(n)]\n",
    "    s2 = sum(s1)"
   ]
  },
  {
   "cell_type": "code",
   "execution_count": 3,
   "metadata": {},
   "outputs": [
    {
     "name": "stdout",
     "output_type": "stream",
     "text": [
      "Timer unit: 1e-06 s\n",
      "\n",
      "Total time: 1.60698 s\n",
      "File: <ipython-input-2-5a497711d596>\n",
      "Function: function_1 at line 1\n",
      "\n",
      "Line #      Hits         Time  Per Hit   % Time  Line Contents\n",
      "==============================================================\n",
      "     1                                           def function_1(n):\n",
      "     2      1001        446.0      0.4      0.0      for i in range(n):\n",
      "     3      1000    1489773.0   1489.8     92.7          x = [5 * j for j in range(10000)]\n",
      "     4      1000     116759.0    116.8      7.3          y = function_2(n)\n",
      "\n",
      "Total time: 0.109381 s\n",
      "File: <ipython-input-2-5a497711d596>\n",
      "Function: function_2 at line 6\n",
      "\n",
      "Line #      Hits         Time  Per Hit   % Time  Line Contents\n",
      "==============================================================\n",
      "     6                                           def function_2(n):\n",
      "     7      1000     103805.0    103.8     94.9      s1 = [i for i in range(n)]\n",
      "     8      1000       5576.0      5.6      5.1      s2 = sum(s1)\n",
      "\n"
     ]
    }
   ],
   "source": [
    "lp = LineProfiler()\n",
    "lp_wrapper = lp(function_1)\n",
    "lp.add_function(function_2)   # add additional function to profile\n",
    "lp_wrapper(n = 1000)\n",
    "lp.print_stats()"
   ]
  },
  {
   "cell_type": "markdown",
   "metadata": {},
   "source": [
    "### %lprun magic function\n",
    "First we must load the line_profiler Ipython extension;"
   ]
  },
  {
   "cell_type": "code",
   "execution_count": 4,
   "metadata": {},
   "outputs": [],
   "source": [
    "%load_ext line_profiler"
   ]
  },
  {
   "cell_type": "markdown",
   "metadata": {},
   "source": [
    "Note that the output of %lprun is displayed in a sub window in the browser so has been copied into a markdown cell here."
   ]
  },
  {
   "cell_type": "code",
   "execution_count": 5,
   "metadata": {},
   "outputs": [],
   "source": [
    "%lprun -f function_1 -f function_2 function_1(1000)"
   ]
  },
  {
   "cell_type": "markdown",
   "metadata": {},
   "source": [
    "Timer unit: 1e-06 s\n",
    "\n",
    "Total time: 1.56766 s\n",
    "File: <ipython-input-2-5a497711d596>\n",
    "Function: function_1 at line 1\n",
    "\n",
    "Line #      Hits         Time  Per Hit   % Time  Line Contents\n",
    "==============================================================\n",
    "     1                                           def function_1(n):\n",
    "     2      1001        428.0      0.4      0.0      for i in range(n):\n",
    "     3      1000    1454852.0   1454.9     92.8          x = [5 * j for j in range(10000)]\n",
    "     4      1000     112383.0    112.4      7.2          y = function_2(n)\n",
    "\n",
    "Total time: 0.105065 s\n",
    "File: <ipython-input-2-5a497711d596>\n",
    "Function: function_2 at line 6\n",
    "\n",
    "Line #      Hits         Time  Per Hit   % Time  Line Contents\n",
    "==============================================================\n",
    "     6                                           def function_2(n):\n",
    "     7      1000      99636.0     99.6     94.8      s1 = [i for i in range(n)]\n",
    "     8      1000       5429.0      5.4      5.2      s2 = sum(s1)"
   ]
  },
  {
   "cell_type": "markdown",
   "metadata": {},
   "source": [
    "### From command line\n",
    "It is also possible to use line_profiler from the command line. The functions above have been saved in a file 'functions_to_profile.py';"
   ]
  },
  {
   "cell_type": "code",
   "execution_count": 6,
   "metadata": {},
   "outputs": [
    {
     "name": "stdout",
     "output_type": "stream",
     "text": [
      "@profile\n",
      "def function_1(n):\n",
      "    for i in range(n):\n",
      "        x = [5 * j for j in range(10000)]\n",
      "        y = function_2(n)\n",
      "    \n",
      "@profile\n",
      "def function_2(n):\n",
      "    s1 = [i for i in range(n)]\n",
      "    s2 = sum(s1)\n",
      "\n",
      "\n",
      "function_1(1000)\n",
      "\n"
     ]
    }
   ],
   "source": [
    "with open('functions_to_profile.py', 'r') as viewFileOpen:\n",
    "        data = viewFileOpen.read()\n",
    "print(data)"
   ]
  },
  {
   "cell_type": "markdown",
   "metadata": {},
   "source": [
    "Now we use the %system magic command to run a command line command in jupyter and capture the results;"
   ]
  },
  {
   "cell_type": "code",
   "execution_count": 7,
   "metadata": {},
   "outputs": [
    {
     "data": {
      "text/plain": [
       "['Wrote profile results to functions_to_profile.py.lprof',\n",
       " 'Timer unit: 1e-06 s',\n",
       " '',\n",
       " 'Total time: 1.53509 s',\n",
       " 'File: functions_to_profile.py',\n",
       " 'Function: function_1 at line 1',\n",
       " '',\n",
       " 'Line #      Hits         Time  Per Hit   % Time  Line Contents',\n",
       " '==============================================================',\n",
       " '     1                                           @profile',\n",
       " '     2                                           def function_1(n):',\n",
       " '     3      1001        431.0      0.4      0.0      for i in range(n):',\n",
       " '     4      1000    1420906.0   1420.9     92.6          x = [5 * j for j in range(10000)]',\n",
       " '     5      1000     113757.0    113.8      7.4          y = function_2(n)',\n",
       " '',\n",
       " 'Total time: 0.10519 s',\n",
       " 'File: functions_to_profile.py',\n",
       " 'Function: function_2 at line 7',\n",
       " '',\n",
       " 'Line #      Hits         Time  Per Hit   % Time  Line Contents',\n",
       " '==============================================================',\n",
       " '     7                                           @profile',\n",
       " '     8                                           def function_2(n):',\n",
       " '     9      1000      99932.0     99.9     95.0      s1 = [i for i in range(n)]',\n",
       " '    10      1000       5258.0      5.3      5.0      s2 = sum(s1)',\n",
       " '']"
      ]
     },
     "execution_count": 7,
     "metadata": {},
     "output_type": "execute_result"
    }
   ],
   "source": [
    "%system kernprof -l -v functions_to_profile.py"
   ]
  },
  {
   "cell_type": "code",
   "execution_count": null,
   "metadata": {},
   "outputs": [],
   "source": []
  },
  {
   "cell_type": "code",
   "execution_count": null,
   "metadata": {},
   "outputs": [],
   "source": []
  },
  {
   "cell_type": "code",
   "execution_count": null,
   "metadata": {},
   "outputs": [],
   "source": []
  }
 ],
 "metadata": {
  "kernelspec": {
   "display_name": "Python 3",
   "language": "python",
   "name": "python3"
  },
  "language_info": {
   "codemirror_mode": {
    "name": "ipython",
    "version": 3
   },
   "file_extension": ".py",
   "mimetype": "text/x-python",
   "name": "python",
   "nbconvert_exporter": "python",
   "pygments_lexer": "ipython3",
   "version": "3.6.4"
  },
  "toc": {
   "nav_menu": {},
   "number_sections": true,
   "sideBar": true,
   "skip_h1_title": false,
   "toc_cell": false,
   "toc_position": {},
   "toc_section_display": "block",
   "toc_window_display": true
  }
 },
 "nbformat": 4,
 "nbformat_minor": 2
}
