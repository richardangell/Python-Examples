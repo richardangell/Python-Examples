{
 "cells": [
  {
   "cell_type": "markdown",
   "metadata": {},
   "source": [
    "# Code-Profiling\n",
    "This notebook shows 3 different ways of using [line_profiler](https://github.com/rkern/line_profiler#line-profiler) to profile the runtime of Python code line by line."
   ]
  },
  {
   "cell_type": "markdown",
   "metadata": {},
   "source": [
    "## Runtime profiling with line_profiler"
   ]
  },
  {
   "cell_type": "markdown",
   "metadata": {},
   "source": [
    "### Using line_profiler within session"
   ]
  },
  {
   "cell_type": "code",
   "execution_count": 1,
   "metadata": {},
   "outputs": [],
   "source": [
    "from line_profiler import LineProfiler"
   ]
  },
  {
   "cell_type": "code",
   "execution_count": 74,
   "metadata": {},
   "outputs": [],
   "source": [
    "def function_1(n):\n",
    "    for i in range(n):\n",
    "        x = [5 * j for j in range(10000)]\n",
    "        y = function_2(n)\n",
    "    \n",
    "def function_2(n):\n",
    "    s1 = [i for i in range(n)]\n",
    "    s2 = sum(s1)"
   ]
  },
  {
   "cell_type": "code",
   "execution_count": 73,
   "metadata": {},
   "outputs": [
    {
     "name": "stdout",
     "output_type": "stream",
     "text": [
      "Timer unit: 1e-06 s\n",
      "\n",
      "Total time: 1.48845 s\n",
      "File: <ipython-input-70-5a497711d596>\n",
      "Function: function_1 at line 1\n",
      "\n",
      "Line #      Hits         Time  Per Hit   % Time  Line Contents\n",
      "==============================================================\n",
      "     1                                           def function_1(n):\n",
      "     2      1001        385.0      0.4      0.0      for i in range(n):\n",
      "     3      1000    1381318.0   1381.3     92.8          x = [5 * j for j in range(10000)]\n",
      "     4      1000     106748.0    106.7      7.2          y = function_2(n)\n",
      "\n",
      "Total time: 0.100231 s\n",
      "File: <ipython-input-70-5a497711d596>\n",
      "Function: function_2 at line 6\n",
      "\n",
      "Line #      Hits         Time  Per Hit   % Time  Line Contents\n",
      "==============================================================\n",
      "     6                                           def function_2(n):\n",
      "     7      1000      95154.0     95.2     94.9      s1 = [i for i in range(n)]\n",
      "     8      1000       5077.0      5.1      5.1      s2 = sum(s1)\n",
      "\n"
     ]
    }
   ],
   "source": [
    "lp = LineProfiler()\n",
    "lp_wrapper = lp(function_1)\n",
    "lp.add_function(function_2)   # add additional function to profile\n",
    "lp_wrapper(n = 1000)\n",
    "lp.print_stats()"
   ]
  },
  {
   "cell_type": "markdown",
   "metadata": {},
   "source": [
    "### %lprun magic function\n",
    "First we must load the line_profiler Ipython extension;"
   ]
  },
  {
   "cell_type": "code",
   "execution_count": 19,
   "metadata": {},
   "outputs": [],
   "source": [
    "%load_ext line_profiler"
   ]
  },
  {
   "cell_type": "markdown",
   "metadata": {},
   "source": [
    "Note that the output of %lprun is displayed in a sub window in the browser so has been copied into a markdown cell here."
   ]
  },
  {
   "cell_type": "code",
   "execution_count": 46,
   "metadata": {},
   "outputs": [],
   "source": [
    "%lprun -f do_stuff -f do_other_stuff do_stuff(numbers)"
   ]
  },
  {
   "cell_type": "markdown",
   "metadata": {},
   "source": [
    "Timer unit: 1e-06 s\n",
    "\n",
    "Total time: 0.004954 s\n",
    "File: <ipython-input-10-5958c14c4b77>\n",
    "Function: do_other_stuff at line 1\n",
    "\n",
    "Line #      Hits         Time  Per Hit   % Time  Line Contents \n",
    "==============================================================\n",
    "     1                                           def do_other_stuff(numbers):\n",
    "     2      1001       4954.0      4.9    100.0      s = sum(numbers)\n",
    "\n",
    "Total time: 0.59044 s\n",
    "File: <ipython-input-10-5958c14c4b77>\n",
    "Function: do_stuff at line 4\n",
    "\n",
    "Line #      Hits         Time  Per Hit   % Time  Line Contents \n",
    "==============================================================\n",
    "     4                                           def do_stuff(numbers):\n",
    "     5      1001        582.0      0.6      0.1      for i in range(1000):\n",
    "     6      1000       6054.0      6.1      1.0          do_other_stuff(numbers)\n",
    "     7      1000     177508.0    177.5     30.1          l = [numbers[i]/43 for i in range(len(numbers))]\n",
    "     8      1000     406290.0    406.3     68.8          m = ['hello'+str(numbers[i]) for i in range(len(numbers))]\n",
    "     9         1          6.0      6.0      0.0      do_other_stuff(numbers)"
   ]
  },
  {
   "cell_type": "markdown",
   "metadata": {},
   "source": [
    "### From command line\n",
    "It is also possible to use line_profiler from the command line. The functions above have been saved in a file 'functions_to_profile.py';"
   ]
  },
  {
   "cell_type": "code",
   "execution_count": 76,
   "metadata": {},
   "outputs": [
    {
     "name": "stdout",
     "output_type": "stream",
     "text": [
      "@profile\n",
      "def function_1(n):\n",
      "    for i in range(n):\n",
      "        x = [5 * j for j in range(10000)]\n",
      "        y = function_2(n)\n",
      "    \n",
      "@profile\n",
      "def function_2(n):\n",
      "    s1 = [i for i in range(n)]\n",
      "    s2 = sum(s1)\n",
      "\n",
      "\n",
      "function_1(1000)\n",
      "\n"
     ]
    }
   ],
   "source": [
    "with open('functions_to_profile.py', 'r') as viewFileOpen:\n",
    "        data = viewFileOpen.read()\n",
    "print(data)"
   ]
  },
  {
   "cell_type": "markdown",
   "metadata": {},
   "source": [
    "Now we use the %system magic command to run a command line command in jupyter and capture the results;"
   ]
  },
  {
   "cell_type": "code",
   "execution_count": 77,
   "metadata": {},
   "outputs": [
    {
     "data": {
      "text/plain": [
       "['Wrote profile results to functions_to_profile.py.lprof',\n",
       " 'Timer unit: 1e-06 s',\n",
       " '',\n",
       " 'Total time: 1.54464 s',\n",
       " 'File: functions_to_profile.py',\n",
       " 'Function: function_1 at line 1',\n",
       " '',\n",
       " 'Line #      Hits         Time  Per Hit   % Time  Line Contents',\n",
       " '==============================================================',\n",
       " '     1                                           @profile',\n",
       " '     2                                           def function_1(n):',\n",
       " '     3      1001        412.0      0.4      0.0      for i in range(n):',\n",
       " '     4      1000    1428096.0   1428.1     92.5          x = [5 * j for j in range(10000)]',\n",
       " '     5      1000     116136.0    116.1      7.5          y = function_2(n)',\n",
       " '',\n",
       " 'Total time: 0.107712 s',\n",
       " 'File: functions_to_profile.py',\n",
       " 'Function: function_2 at line 7',\n",
       " '',\n",
       " 'Line #      Hits         Time  Per Hit   % Time  Line Contents',\n",
       " '==============================================================',\n",
       " '     7                                           @profile',\n",
       " '     8                                           def function_2(n):',\n",
       " '     9      1000     102331.0    102.3     95.0      s1 = [i for i in range(n)]',\n",
       " '    10      1000       5381.0      5.4      5.0      s2 = sum(s1)',\n",
       " '']"
      ]
     },
     "execution_count": 77,
     "metadata": {},
     "output_type": "execute_result"
    }
   ],
   "source": [
    "%system kernprof -l -v functions_to_profile.py"
   ]
  },
  {
   "cell_type": "code",
   "execution_count": null,
   "metadata": {},
   "outputs": [],
   "source": []
  },
  {
   "cell_type": "code",
   "execution_count": null,
   "metadata": {},
   "outputs": [],
   "source": []
  },
  {
   "cell_type": "code",
   "execution_count": null,
   "metadata": {},
   "outputs": [],
   "source": []
  }
 ],
 "metadata": {
  "kernelspec": {
   "display_name": "Python 3",
   "language": "python",
   "name": "python3"
  },
  "language_info": {
   "codemirror_mode": {
    "name": "ipython",
    "version": 3
   },
   "file_extension": ".py",
   "mimetype": "text/x-python",
   "name": "python",
   "nbconvert_exporter": "python",
   "pygments_lexer": "ipython3",
   "version": "3.6.4"
  },
  "toc": {
   "nav_menu": {},
   "number_sections": true,
   "sideBar": true,
   "skip_h1_title": false,
   "toc_cell": false,
   "toc_position": {},
   "toc_section_display": "block",
   "toc_window_display": true
  }
 },
 "nbformat": 4,
 "nbformat_minor": 2
}
