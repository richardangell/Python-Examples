{
 "cells": [
  {
   "cell_type": "markdown",
   "metadata": {},
   "source": [
    "# Compare Local Explanation Methods\n",
    "This notebook compares the following method for explaining local predictions from xgboost models;\n",
    "- shapley values, from shap package - https://github.com/slundberg/shap\n",
    "- shapley values, directly from xgboost - https://xgboost.readthedocs.io/en/latest/python/python_api.html#xgboost.Booster.predict\n",
    "- prediction decomposition method - implemented in eli5; https://eli5.readthedocs.io/en/latest/index.html and described here; http://blog.datadive.net/interpreting-random-forests/\n",
    "\n",
    "Additionally pygbmexpl - https://github.com/richardangell/pygbmexpl/tree/develop is used to inspect the path of records through the trees"
   ]
  },
  {
   "cell_type": "markdown",
   "metadata": {
    "toc": true
   },
   "source": [
    "<h1>Table of Contents<span class=\"tocSkip\"></span></h1>\n",
    "<div class=\"toc\"><ul class=\"toc-item\"><li><span><a href=\"#Compare-Local-Explanation-Methods\" data-toc-modified-id=\"Compare-Local-Explanation-Methods-1\"><span class=\"toc-item-num\">1&nbsp;&nbsp;</span>Compare Local Explanation Methods</a></span></li><li><span><a href=\"#Load-data\" data-toc-modified-id=\"Load-data-2\"><span class=\"toc-item-num\">2&nbsp;&nbsp;</span>Load data</a></span></li><li><span><a href=\"#Build-model\" data-toc-modified-id=\"Build-model-3\"><span class=\"toc-item-num\">3&nbsp;&nbsp;</span>Build model</a></span></li><li><span><a href=\"#Set-row-to-consider\" data-toc-modified-id=\"Set-row-to-consider-4\"><span class=\"toc-item-num\">4&nbsp;&nbsp;</span>Set row to consider</a></span></li><li><span><a href=\"#Get-prediction-from-model\" data-toc-modified-id=\"Get-prediction-from-model-5\"><span class=\"toc-item-num\">5&nbsp;&nbsp;</span>Get prediction from model</a></span></li><li><span><a href=\"#Decompose-prediction-with-eli5\" data-toc-modified-id=\"Decompose-prediction-with-eli5-6\"><span class=\"toc-item-num\">6&nbsp;&nbsp;</span>Decompose prediction with eli5</a></span></li><li><span><a href=\"#Parse-model-with-pygbmexpl\" data-toc-modified-id=\"Parse-model-with-pygbmexpl-7\"><span class=\"toc-item-num\">7&nbsp;&nbsp;</span>Parse model with pygbmexpl</a></span></li><li><span><a href=\"#Decompose-prediction-with-pygbmexpl\" data-toc-modified-id=\"Decompose-prediction-with-pygbmexpl-8\"><span class=\"toc-item-num\">8&nbsp;&nbsp;</span>Decompose prediction with pygbmexpl</a></span></li><li><span><a href=\"#Explain-prediction-shap-built-into-xgboost\" data-toc-modified-id=\"Explain-prediction-shap-built-into-xgboost-9\"><span class=\"toc-item-num\">9&nbsp;&nbsp;</span>Explain prediction shap built into xgboost</a></span></li><li><span><a href=\"#Explain-prediction-with-shap-library\" data-toc-modified-id=\"Explain-prediction-with-shap-library-10\"><span class=\"toc-item-num\">10&nbsp;&nbsp;</span>Explain prediction with shap library</a></span></li></ul></div>"
   ]
  },
  {
   "cell_type": "code",
   "execution_count": 1,
   "metadata": {},
   "outputs": [
    {
     "name": "stderr",
     "output_type": "stream",
     "text": [
      "The sklearn.metrics.scorer module is  deprecated in version 0.22 and will be removed in version 0.24. The corresponding classes / functions should instead be imported from sklearn.metrics. Anything that cannot be imported from sklearn.metrics is now part of the private API.\n",
      "The sklearn.feature_selection.base module is  deprecated in version 0.22 and will be removed in version 0.24. The corresponding classes / functions should instead be imported from sklearn.feature_selection. Anything that cannot be imported from sklearn.feature_selection is now part of the private API.\n"
     ]
    }
   ],
   "source": [
    "import xgboost as xgb\n",
    "import pandas as pd\n",
    "import shap\n",
    "from eli5 import show_prediction"
   ]
  },
  {
   "cell_type": "code",
   "execution_count": 2,
   "metadata": {},
   "outputs": [],
   "source": [
    "import pygbmexpl.xgb.parser as xgb_parser\n",
    "import pygbmexpl.xgb.explainer as xgb_explainer"
   ]
  },
  {
   "cell_type": "code",
   "execution_count": 3,
   "metadata": {},
   "outputs": [],
   "source": [
    "import data_prep"
   ]
  },
  {
   "cell_type": "markdown",
   "metadata": {},
   "source": [
    "# Load data"
   ]
  },
  {
   "cell_type": "code",
   "execution_count": 4,
   "metadata": {},
   "outputs": [],
   "source": [
    "data_df = data_prep.get_boston_df()"
   ]
  },
  {
   "cell_type": "code",
   "execution_count": 5,
   "metadata": {},
   "outputs": [],
   "source": [
    "data_xgb = data_prep.get_boston_xgb()"
   ]
  },
  {
   "cell_type": "markdown",
   "metadata": {},
   "source": [
    "# Build model"
   ]
  },
  {
   "cell_type": "code",
   "execution_count": 6,
   "metadata": {},
   "outputs": [],
   "source": [
    "model = xgb.train(\n",
    "    params = {\n",
    "        'silent': 1,\n",
    "        'max_depth': 3\n",
    "    }, \n",
    "    dtrain = data_xgb, \n",
    "    num_boost_round = 5\n",
    ")"
   ]
  },
  {
   "cell_type": "code",
   "execution_count": 7,
   "metadata": {},
   "outputs": [],
   "source": [
    "model.dump_model('dump_raw.json', with_stats = True, dump_format = 'json')"
   ]
  },
  {
   "cell_type": "markdown",
   "metadata": {},
   "source": [
    "# Set row to consider"
   ]
  },
  {
   "cell_type": "code",
   "execution_count": 10,
   "metadata": {},
   "outputs": [],
   "source": [
    "row = 0"
   ]
  },
  {
   "cell_type": "markdown",
   "metadata": {},
   "source": [
    "# Get prediction from model"
   ]
  },
  {
   "cell_type": "code",
   "execution_count": 12,
   "metadata": {},
   "outputs": [
    {
     "data": {
      "text/plain": [
       "22.020464"
      ]
     },
     "execution_count": 12,
     "metadata": {},
     "output_type": "execute_result"
    }
   ],
   "source": [
    "model.predict(data_xgb)[row]"
   ]
  },
  {
   "cell_type": "code",
   "execution_count": 11,
   "metadata": {},
   "outputs": [
    {
     "data": {
      "text/plain": [
       "CRIM         0.00632\n",
       "ZN          18.00000\n",
       "INDUS        2.31000\n",
       "CHAS         0.00000\n",
       "NOX          0.53800\n",
       "RM           6.57500\n",
       "AGE         65.20000\n",
       "DIS          4.09000\n",
       "RAD          1.00000\n",
       "TAX        296.00000\n",
       "PTRATIO     15.30000\n",
       "B          396.90000\n",
       "LSTAT        4.98000\n",
       "Name: 0, dtype: float64"
      ]
     },
     "execution_count": 11,
     "metadata": {},
     "output_type": "execute_result"
    }
   ],
   "source": [
    "data_df.loc[row].drop('target')"
   ]
  },
  {
   "cell_type": "markdown",
   "metadata": {},
   "source": [
    "# Decompose prediction with eli5"
   ]
  },
  {
   "cell_type": "code",
   "execution_count": 13,
   "metadata": {},
   "outputs": [
    {
     "data": {
      "text/html": [
       "\n",
       "    <style>\n",
       "    table.eli5-weights tr:hover {\n",
       "        filter: brightness(85%);\n",
       "    }\n",
       "</style>\n",
       "\n",
       "\n",
       "\n",
       "    \n",
       "\n",
       "    \n",
       "\n",
       "    \n",
       "\n",
       "    \n",
       "\n",
       "    \n",
       "\n",
       "    \n",
       "\n",
       "\n",
       "    \n",
       "\n",
       "    \n",
       "\n",
       "    \n",
       "\n",
       "    \n",
       "        \n",
       "\n",
       "    \n",
       "\n",
       "        \n",
       "            \n",
       "                \n",
       "                \n",
       "    \n",
       "        <p style=\"margin-bottom: 0.5em; margin-top: 0em\">\n",
       "            <b>\n",
       "    \n",
       "        y\n",
       "    \n",
       "</b>\n",
       "\n",
       "    \n",
       "    (score <b>22.020</b>)\n",
       "\n",
       "top features\n",
       "        </p>\n",
       "    \n",
       "    <table class=\"eli5-weights\"\n",
       "           style=\"border-collapse: collapse; border: none; margin-top: 0em; table-layout: auto; margin-bottom: 2em;\">\n",
       "        <thead>\n",
       "        <tr style=\"border: none;\">\n",
       "            \n",
       "                <th style=\"padding: 0 1em 0 0.5em; text-align: right; border: none;\" title=\"Feature contribution already accounts for the feature value (for linear models, contribution = weight * feature value), and the sum of feature contributions is equal to the score or, for some classifiers, to the probability. Feature values are shown if &quot;show_feature_values&quot; is True.\">\n",
       "                    Contribution<sup>?</sup>\n",
       "                </th>\n",
       "            \n",
       "            <th style=\"padding: 0 0.5em 0 0.5em; text-align: left; border: none;\">Feature</th>\n",
       "            \n",
       "                <th style=\"padding: 0 0.5em 0 1em; text-align: right; border: none;\">Value</th>\n",
       "            \n",
       "        </tr>\n",
       "        </thead>\n",
       "        <tbody>\n",
       "        \n",
       "            <tr style=\"background-color: hsl(120, 100.00%, 80.00%); border: none;\">\n",
       "    <td style=\"padding: 0 1em 0 0.5em; text-align: right; border: none;\">\n",
       "        +18.608\n",
       "    </td>\n",
       "    <td style=\"padding: 0 0.5em 0 0.5em; text-align: left; border: none;\">\n",
       "        &lt;BIAS&gt;\n",
       "    </td>\n",
       "    \n",
       "        <td style=\"padding: 0 0.5em 0 1em; text-align: right; border: none;\">\n",
       "            1.000\n",
       "        </td>\n",
       "    \n",
       "</tr>\n",
       "        \n",
       "            <tr style=\"background-color: hsl(120, 100.00%, 90.49%); border: none;\">\n",
       "    <td style=\"padding: 0 1em 0 0.5em; text-align: right; border: none;\">\n",
       "        +6.434\n",
       "    </td>\n",
       "    <td style=\"padding: 0 0.5em 0 0.5em; text-align: left; border: none;\">\n",
       "        LSTAT\n",
       "    </td>\n",
       "    \n",
       "        <td style=\"padding: 0 0.5em 0 1em; text-align: right; border: none;\">\n",
       "            4.980\n",
       "        </td>\n",
       "    \n",
       "</tr>\n",
       "        \n",
       "            <tr style=\"background-color: hsl(120, 100.00%, 99.63%); border: none;\">\n",
       "    <td style=\"padding: 0 1em 0 0.5em; text-align: right; border: none;\">\n",
       "        +0.063\n",
       "    </td>\n",
       "    <td style=\"padding: 0 0.5em 0 0.5em; text-align: left; border: none;\">\n",
       "        NOX\n",
       "    </td>\n",
       "    \n",
       "        <td style=\"padding: 0 0.5em 0 1em; text-align: right; border: none;\">\n",
       "            0.538\n",
       "        </td>\n",
       "    \n",
       "</tr>\n",
       "        \n",
       "        \n",
       "\n",
       "        \n",
       "        \n",
       "            <tr style=\"background-color: hsl(0, 100.00%, 98.02%); border: none;\">\n",
       "    <td style=\"padding: 0 1em 0 0.5em; text-align: right; border: none;\">\n",
       "        -0.685\n",
       "    </td>\n",
       "    <td style=\"padding: 0 0.5em 0 0.5em; text-align: left; border: none;\">\n",
       "        DIS\n",
       "    </td>\n",
       "    \n",
       "        <td style=\"padding: 0 0.5em 0 1em; text-align: right; border: none;\">\n",
       "            4.090\n",
       "        </td>\n",
       "    \n",
       "</tr>\n",
       "        \n",
       "            <tr style=\"background-color: hsl(0, 100.00%, 95.23%); border: none;\">\n",
       "    <td style=\"padding: 0 1em 0 0.5em; text-align: right; border: none;\">\n",
       "        -2.399\n",
       "    </td>\n",
       "    <td style=\"padding: 0 0.5em 0 0.5em; text-align: left; border: none;\">\n",
       "        RM\n",
       "    </td>\n",
       "    \n",
       "        <td style=\"padding: 0 0.5em 0 1em; text-align: right; border: none;\">\n",
       "            6.575\n",
       "        </td>\n",
       "    \n",
       "</tr>\n",
       "        \n",
       "\n",
       "        </tbody>\n",
       "    </table>\n",
       "\n",
       "            \n",
       "        \n",
       "\n",
       "        \n",
       "\n",
       "\n",
       "\n",
       "    \n",
       "\n",
       "    \n",
       "\n",
       "    \n",
       "\n",
       "    \n",
       "\n",
       "\n",
       "    \n",
       "\n",
       "    \n",
       "\n",
       "    \n",
       "\n",
       "    \n",
       "\n",
       "    \n",
       "\n",
       "    \n",
       "\n",
       "\n",
       "    \n",
       "\n",
       "    \n",
       "\n",
       "    \n",
       "\n",
       "    \n",
       "\n",
       "    \n",
       "\n",
       "    \n",
       "\n",
       "\n",
       "\n"
      ],
      "text/plain": [
       "<IPython.core.display.HTML object>"
      ]
     },
     "execution_count": 13,
     "metadata": {},
     "output_type": "execute_result"
    }
   ],
   "source": [
    "show_prediction(model, data_df.loc[row].drop('target'), show_feature_values = True)"
   ]
  },
  {
   "cell_type": "markdown",
   "metadata": {},
   "source": [
    "# Parse model with pygbmexpl"
   ]
  },
  {
   "cell_type": "code",
   "execution_count": 15,
   "metadata": {},
   "outputs": [
    {
     "data": {
      "text/plain": [
       "(71, 15)"
      ]
     },
     "execution_count": 15,
     "metadata": {},
     "output_type": "execute_result"
    }
   ],
   "source": [
    "model_df = xgb_parser.extract_model_predictions(model)\n",
    "model_df.shape"
   ]
  },
  {
   "cell_type": "code",
   "execution_count": 17,
   "metadata": {},
   "outputs": [
    {
     "data": {
      "text/html": [
       "<div>\n",
       "<style scoped>\n",
       "    .dataframe tbody tr th:only-of-type {\n",
       "        vertical-align: middle;\n",
       "    }\n",
       "\n",
       "    .dataframe tbody tr th {\n",
       "        vertical-align: top;\n",
       "    }\n",
       "\n",
       "    .dataframe thead th {\n",
       "        text-align: right;\n",
       "    }\n",
       "</style>\n",
       "<table border=\"1\" class=\"dataframe\">\n",
       "  <thead>\n",
       "    <tr style=\"text-align: right;\">\n",
       "      <th></th>\n",
       "      <th>tree</th>\n",
       "      <th>nodeid</th>\n",
       "      <th>depth</th>\n",
       "      <th>yes</th>\n",
       "      <th>no</th>\n",
       "      <th>missing</th>\n",
       "      <th>split</th>\n",
       "      <th>split_condition</th>\n",
       "      <th>leaf</th>\n",
       "      <th>gain</th>\n",
       "      <th>cover</th>\n",
       "      <th>node_type</th>\n",
       "      <th>H</th>\n",
       "      <th>G</th>\n",
       "      <th>weight</th>\n",
       "    </tr>\n",
       "  </thead>\n",
       "  <tbody>\n",
       "    <tr>\n",
       "      <th>0</th>\n",
       "      <td>0</td>\n",
       "      <td>0</td>\n",
       "      <td>0</td>\n",
       "      <td>1.0</td>\n",
       "      <td>2.0</td>\n",
       "      <td>1.0</td>\n",
       "      <td>LSTAT</td>\n",
       "      <td>9.725000</td>\n",
       "      <td>NaN</td>\n",
       "      <td>18223.468800</td>\n",
       "      <td>506.0</td>\n",
       "      <td>internal</td>\n",
       "      <td>506.0</td>\n",
       "      <td>-3359.478957</td>\n",
       "      <td>6.639286</td>\n",
       "    </tr>\n",
       "    <tr>\n",
       "      <th>1</th>\n",
       "      <td>0</td>\n",
       "      <td>1</td>\n",
       "      <td>1</td>\n",
       "      <td>3.0</td>\n",
       "      <td>4.0</td>\n",
       "      <td>3.0</td>\n",
       "      <td>RM</td>\n",
       "      <td>6.941000</td>\n",
       "      <td>NaN</td>\n",
       "      <td>6826.890620</td>\n",
       "      <td>212.0</td>\n",
       "      <td>internal</td>\n",
       "      <td>212.0</td>\n",
       "      <td>-1848.510661</td>\n",
       "      <td>8.719390</td>\n",
       "    </tr>\n",
       "    <tr>\n",
       "      <th>2</th>\n",
       "      <td>0</td>\n",
       "      <td>2</td>\n",
       "      <td>1</td>\n",
       "      <td>5.0</td>\n",
       "      <td>6.0</td>\n",
       "      <td>5.0</td>\n",
       "      <td>LSTAT</td>\n",
       "      <td>16.084999</td>\n",
       "      <td>NaN</td>\n",
       "      <td>2368.789060</td>\n",
       "      <td>294.0</td>\n",
       "      <td>internal</td>\n",
       "      <td>294.0</td>\n",
       "      <td>-1510.968295</td>\n",
       "      <td>5.139348</td>\n",
       "    </tr>\n",
       "    <tr>\n",
       "      <th>3</th>\n",
       "      <td>0</td>\n",
       "      <td>3</td>\n",
       "      <td>2</td>\n",
       "      <td>7.0</td>\n",
       "      <td>8.0</td>\n",
       "      <td>7.0</td>\n",
       "      <td>DIS</td>\n",
       "      <td>1.484950</td>\n",
       "      <td>NaN</td>\n",
       "      <td>525.820312</td>\n",
       "      <td>142.0</td>\n",
       "      <td>internal</td>\n",
       "      <td>142.0</td>\n",
       "      <td>-1062.806345</td>\n",
       "      <td>7.484552</td>\n",
       "    </tr>\n",
       "    <tr>\n",
       "      <th>4</th>\n",
       "      <td>0</td>\n",
       "      <td>4</td>\n",
       "      <td>2</td>\n",
       "      <td>9.0</td>\n",
       "      <td>10.0</td>\n",
       "      <td>9.0</td>\n",
       "      <td>RM</td>\n",
       "      <td>7.437000</td>\n",
       "      <td>NaN</td>\n",
       "      <td>675.375000</td>\n",
       "      <td>70.0</td>\n",
       "      <td>internal</td>\n",
       "      <td>70.0</td>\n",
       "      <td>-785.704316</td>\n",
       "      <td>11.224347</td>\n",
       "    </tr>\n",
       "    <tr>\n",
       "      <th>5</th>\n",
       "      <td>0</td>\n",
       "      <td>5</td>\n",
       "      <td>2</td>\n",
       "      <td>11.0</td>\n",
       "      <td>12.0</td>\n",
       "      <td>11.0</td>\n",
       "      <td>B</td>\n",
       "      <td>116.024994</td>\n",
       "      <td>NaN</td>\n",
       "      <td>106.074219</td>\n",
       "      <td>150.0</td>\n",
       "      <td>internal</td>\n",
       "      <td>150.0</td>\n",
       "      <td>-903.771299</td>\n",
       "      <td>6.025142</td>\n",
       "    </tr>\n",
       "    <tr>\n",
       "      <th>6</th>\n",
       "      <td>0</td>\n",
       "      <td>6</td>\n",
       "      <td>2</td>\n",
       "      <td>13.0</td>\n",
       "      <td>14.0</td>\n",
       "      <td>13.0</td>\n",
       "      <td>NOX</td>\n",
       "      <td>0.603000</td>\n",
       "      <td>NaN</td>\n",
       "      <td>624.634766</td>\n",
       "      <td>144.0</td>\n",
       "      <td>internal</td>\n",
       "      <td>144.0</td>\n",
       "      <td>-607.196996</td>\n",
       "      <td>4.216646</td>\n",
       "    </tr>\n",
       "    <tr>\n",
       "      <th>7</th>\n",
       "      <td>0</td>\n",
       "      <td>7</td>\n",
       "      <td>3</td>\n",
       "      <td>NaN</td>\n",
       "      <td>NaN</td>\n",
       "      <td>NaN</td>\n",
       "      <td>NaN</td>\n",
       "      <td>NaN</td>\n",
       "      <td>12.000000</td>\n",
       "      <td>NaN</td>\n",
       "      <td>4.0</td>\n",
       "      <td>leaf</td>\n",
       "      <td>4.0</td>\n",
       "      <td>-48.000000</td>\n",
       "      <td>12.000000</td>\n",
       "    </tr>\n",
       "    <tr>\n",
       "      <th>8</th>\n",
       "      <td>0</td>\n",
       "      <td>8</td>\n",
       "      <td>3</td>\n",
       "      <td>NaN</td>\n",
       "      <td>NaN</td>\n",
       "      <td>NaN</td>\n",
       "      <td>NaN</td>\n",
       "      <td>NaN</td>\n",
       "      <td>7.353669</td>\n",
       "      <td>NaN</td>\n",
       "      <td>138.0</td>\n",
       "      <td>leaf</td>\n",
       "      <td>138.0</td>\n",
       "      <td>-1014.806345</td>\n",
       "      <td>7.353669</td>\n",
       "    </tr>\n",
       "    <tr>\n",
       "      <th>9</th>\n",
       "      <td>0</td>\n",
       "      <td>9</td>\n",
       "      <td>3</td>\n",
       "      <td>NaN</td>\n",
       "      <td>NaN</td>\n",
       "      <td>NaN</td>\n",
       "      <td>NaN</td>\n",
       "      <td>NaN</td>\n",
       "      <td>9.823172</td>\n",
       "      <td>NaN</td>\n",
       "      <td>40.0</td>\n",
       "      <td>leaf</td>\n",
       "      <td>40.0</td>\n",
       "      <td>-392.926865</td>\n",
       "      <td>9.823172</td>\n",
       "    </tr>\n",
       "    <tr>\n",
       "      <th>10</th>\n",
       "      <td>0</td>\n",
       "      <td>10</td>\n",
       "      <td>3</td>\n",
       "      <td>NaN</td>\n",
       "      <td>NaN</td>\n",
       "      <td>NaN</td>\n",
       "      <td>NaN</td>\n",
       "      <td>NaN</td>\n",
       "      <td>13.092582</td>\n",
       "      <td>NaN</td>\n",
       "      <td>30.0</td>\n",
       "      <td>leaf</td>\n",
       "      <td>30.0</td>\n",
       "      <td>-392.777451</td>\n",
       "      <td>13.092582</td>\n",
       "    </tr>\n",
       "    <tr>\n",
       "      <th>11</th>\n",
       "      <td>0</td>\n",
       "      <td>11</td>\n",
       "      <td>3</td>\n",
       "      <td>NaN</td>\n",
       "      <td>NaN</td>\n",
       "      <td>NaN</td>\n",
       "      <td>NaN</td>\n",
       "      <td>NaN</td>\n",
       "      <td>3.678750</td>\n",
       "      <td>NaN</td>\n",
       "      <td>7.0</td>\n",
       "      <td>leaf</td>\n",
       "      <td>7.0</td>\n",
       "      <td>-25.751250</td>\n",
       "      <td>3.678750</td>\n",
       "    </tr>\n",
       "    <tr>\n",
       "      <th>12</th>\n",
       "      <td>0</td>\n",
       "      <td>12</td>\n",
       "      <td>3</td>\n",
       "      <td>NaN</td>\n",
       "      <td>NaN</td>\n",
       "      <td>NaN</td>\n",
       "      <td>NaN</td>\n",
       "      <td>NaN</td>\n",
       "      <td>6.140000</td>\n",
       "      <td>NaN</td>\n",
       "      <td>143.0</td>\n",
       "      <td>leaf</td>\n",
       "      <td>143.0</td>\n",
       "      <td>-878.020049</td>\n",
       "      <td>6.140000</td>\n",
       "    </tr>\n",
       "    <tr>\n",
       "      <th>13</th>\n",
       "      <td>0</td>\n",
       "      <td>13</td>\n",
       "      <td>3</td>\n",
       "      <td>NaN</td>\n",
       "      <td>NaN</td>\n",
       "      <td>NaN</td>\n",
       "      <td>NaN</td>\n",
       "      <td>NaN</td>\n",
       "      <td>5.207400</td>\n",
       "      <td>NaN</td>\n",
       "      <td>49.0</td>\n",
       "      <td>leaf</td>\n",
       "      <td>49.0</td>\n",
       "      <td>-255.162616</td>\n",
       "      <td>5.207400</td>\n",
       "    </tr>\n",
       "    <tr>\n",
       "      <th>14</th>\n",
       "      <td>0</td>\n",
       "      <td>14</td>\n",
       "      <td>3</td>\n",
       "      <td>NaN</td>\n",
       "      <td>NaN</td>\n",
       "      <td>NaN</td>\n",
       "      <td>NaN</td>\n",
       "      <td>NaN</td>\n",
       "      <td>3.705625</td>\n",
       "      <td>NaN</td>\n",
       "      <td>95.0</td>\n",
       "      <td>leaf</td>\n",
       "      <td>95.0</td>\n",
       "      <td>-352.034381</td>\n",
       "      <td>3.705625</td>\n",
       "    </tr>\n",
       "  </tbody>\n",
       "</table>\n",
       "</div>"
      ],
      "text/plain": [
       "    tree  nodeid  depth   yes    no  missing  split  split_condition  \\\n",
       "0      0       0      0   1.0   2.0      1.0  LSTAT         9.725000   \n",
       "1      0       1      1   3.0   4.0      3.0     RM         6.941000   \n",
       "2      0       2      1   5.0   6.0      5.0  LSTAT        16.084999   \n",
       "3      0       3      2   7.0   8.0      7.0    DIS         1.484950   \n",
       "4      0       4      2   9.0  10.0      9.0     RM         7.437000   \n",
       "5      0       5      2  11.0  12.0     11.0      B       116.024994   \n",
       "6      0       6      2  13.0  14.0     13.0    NOX         0.603000   \n",
       "7      0       7      3   NaN   NaN      NaN    NaN              NaN   \n",
       "8      0       8      3   NaN   NaN      NaN    NaN              NaN   \n",
       "9      0       9      3   NaN   NaN      NaN    NaN              NaN   \n",
       "10     0      10      3   NaN   NaN      NaN    NaN              NaN   \n",
       "11     0      11      3   NaN   NaN      NaN    NaN              NaN   \n",
       "12     0      12      3   NaN   NaN      NaN    NaN              NaN   \n",
       "13     0      13      3   NaN   NaN      NaN    NaN              NaN   \n",
       "14     0      14      3   NaN   NaN      NaN    NaN              NaN   \n",
       "\n",
       "         leaf          gain  cover node_type      H            G     weight  \n",
       "0         NaN  18223.468800  506.0  internal  506.0 -3359.478957   6.639286  \n",
       "1         NaN   6826.890620  212.0  internal  212.0 -1848.510661   8.719390  \n",
       "2         NaN   2368.789060  294.0  internal  294.0 -1510.968295   5.139348  \n",
       "3         NaN    525.820312  142.0  internal  142.0 -1062.806345   7.484552  \n",
       "4         NaN    675.375000   70.0  internal   70.0  -785.704316  11.224347  \n",
       "5         NaN    106.074219  150.0  internal  150.0  -903.771299   6.025142  \n",
       "6         NaN    624.634766  144.0  internal  144.0  -607.196996   4.216646  \n",
       "7   12.000000           NaN    4.0      leaf    4.0   -48.000000  12.000000  \n",
       "8    7.353669           NaN  138.0      leaf  138.0 -1014.806345   7.353669  \n",
       "9    9.823172           NaN   40.0      leaf   40.0  -392.926865   9.823172  \n",
       "10  13.092582           NaN   30.0      leaf   30.0  -392.777451  13.092582  \n",
       "11   3.678750           NaN    7.0      leaf    7.0   -25.751250   3.678750  \n",
       "12   6.140000           NaN  143.0      leaf  143.0  -878.020049   6.140000  \n",
       "13   5.207400           NaN   49.0      leaf   49.0  -255.162616   5.207400  \n",
       "14   3.705625           NaN   95.0      leaf   95.0  -352.034381   3.705625  "
      ]
     },
     "execution_count": 17,
     "metadata": {},
     "output_type": "execute_result"
    }
   ],
   "source": [
    "model_df.loc[model_df['tree'] == 0]"
   ]
  },
  {
   "cell_type": "markdown",
   "metadata": {},
   "source": [
    "# Decompose prediction with pygbmexpl"
   ]
  },
  {
   "cell_type": "code",
   "execution_count": 18,
   "metadata": {},
   "outputs": [
    {
     "name": "stderr",
     "output_type": "stream",
     "text": [
      "`item` has been deprecated and will be removed in a future version\n",
      "Sorting because non-concatenation axis is not aligned. A future version\n",
      "of pandas will change to not sort by default.\n",
      "\n",
      "To accept the future behavior, pass 'sort=False'.\n",
      "\n",
      "To retain the current behavior and silence the warning, pass 'sort=True'.\n",
      "\n",
      "`item` has been deprecated and will be removed in a future version\n",
      "`item` has been deprecated and will be removed in a future version\n",
      "`item` has been deprecated and will be removed in a future version\n",
      "`item` has been deprecated and will be removed in a future version\n",
      "`item` has been deprecated and will be removed in a future version\n",
      "`item` has been deprecated and will be removed in a future version\n"
     ]
    }
   ],
   "source": [
    "prediction_path = xgb_explainer.decompose_prediction(model_df, data_df.loc[row].drop('target'))"
   ]
  },
  {
   "cell_type": "code",
   "execution_count": 20,
   "metadata": {},
   "outputs": [
    {
     "data": {
      "text/html": [
       "<div>\n",
       "<style scoped>\n",
       "    .dataframe tbody tr th:only-of-type {\n",
       "        vertical-align: middle;\n",
       "    }\n",
       "\n",
       "    .dataframe tbody tr th {\n",
       "        vertical-align: top;\n",
       "    }\n",
       "\n",
       "    .dataframe thead th {\n",
       "        text-align: right;\n",
       "    }\n",
       "</style>\n",
       "<table border=\"1\" class=\"dataframe\">\n",
       "  <thead>\n",
       "    <tr style=\"text-align: right;\">\n",
       "      <th></th>\n",
       "      <th>tree</th>\n",
       "      <th>nodeid</th>\n",
       "      <th>yes</th>\n",
       "      <th>no</th>\n",
       "      <th>missing</th>\n",
       "      <th>split</th>\n",
       "      <th>split_condition</th>\n",
       "      <th>cover</th>\n",
       "      <th>weight</th>\n",
       "      <th>node_type</th>\n",
       "      <th>H</th>\n",
       "      <th>G</th>\n",
       "      <th>value</th>\n",
       "      <th>contributing_var</th>\n",
       "      <th>contribution</th>\n",
       "    </tr>\n",
       "  </thead>\n",
       "  <tbody>\n",
       "    <tr>\n",
       "      <th>0</th>\n",
       "      <td>0</td>\n",
       "      <td>0</td>\n",
       "      <td>1.0</td>\n",
       "      <td>2.0</td>\n",
       "      <td>1.0</td>\n",
       "      <td>LSTAT</td>\n",
       "      <td>9.72500</td>\n",
       "      <td>506.0</td>\n",
       "      <td>6.639286</td>\n",
       "      <td>internal</td>\n",
       "      <td>506.0</td>\n",
       "      <td>-3359.478957</td>\n",
       "      <td>4.980</td>\n",
       "      <td>base</td>\n",
       "      <td>6.639286</td>\n",
       "    </tr>\n",
       "    <tr>\n",
       "      <th>1</th>\n",
       "      <td>0</td>\n",
       "      <td>1</td>\n",
       "      <td>3.0</td>\n",
       "      <td>4.0</td>\n",
       "      <td>3.0</td>\n",
       "      <td>RM</td>\n",
       "      <td>6.94100</td>\n",
       "      <td>212.0</td>\n",
       "      <td>8.719390</td>\n",
       "      <td>internal</td>\n",
       "      <td>212.0</td>\n",
       "      <td>-1848.510661</td>\n",
       "      <td>6.575</td>\n",
       "      <td>LSTAT</td>\n",
       "      <td>2.080103</td>\n",
       "    </tr>\n",
       "    <tr>\n",
       "      <th>3</th>\n",
       "      <td>0</td>\n",
       "      <td>3</td>\n",
       "      <td>7.0</td>\n",
       "      <td>8.0</td>\n",
       "      <td>7.0</td>\n",
       "      <td>DIS</td>\n",
       "      <td>1.48495</td>\n",
       "      <td>142.0</td>\n",
       "      <td>7.484552</td>\n",
       "      <td>internal</td>\n",
       "      <td>142.0</td>\n",
       "      <td>-1062.806345</td>\n",
       "      <td>4.090</td>\n",
       "      <td>RM</td>\n",
       "      <td>-1.234838</td>\n",
       "    </tr>\n",
       "    <tr>\n",
       "      <th>8</th>\n",
       "      <td>0</td>\n",
       "      <td>8</td>\n",
       "      <td>NaN</td>\n",
       "      <td>NaN</td>\n",
       "      <td>NaN</td>\n",
       "      <td>NaN</td>\n",
       "      <td>NaN</td>\n",
       "      <td>138.0</td>\n",
       "      <td>7.353669</td>\n",
       "      <td>leaf</td>\n",
       "      <td>138.0</td>\n",
       "      <td>-1014.806345</td>\n",
       "      <td>NaN</td>\n",
       "      <td>DIS</td>\n",
       "      <td>-0.130883</td>\n",
       "    </tr>\n",
       "  </tbody>\n",
       "</table>\n",
       "</div>"
      ],
      "text/plain": [
       "   tree  nodeid  yes   no  missing  split  split_condition  cover    weight  \\\n",
       "0     0       0  1.0  2.0      1.0  LSTAT          9.72500  506.0  6.639286   \n",
       "1     0       1  3.0  4.0      3.0     RM          6.94100  212.0  8.719390   \n",
       "3     0       3  7.0  8.0      7.0    DIS          1.48495  142.0  7.484552   \n",
       "8     0       8  NaN  NaN      NaN    NaN              NaN  138.0  7.353669   \n",
       "\n",
       "  node_type      H            G  value contributing_var  contribution  \n",
       "0  internal  506.0 -3359.478957  4.980             base      6.639286  \n",
       "1  internal  212.0 -1848.510661  6.575            LSTAT      2.080103  \n",
       "3  internal  142.0 -1062.806345  4.090               RM     -1.234838  \n",
       "8      leaf  138.0 -1014.806345    NaN              DIS     -0.130883  "
      ]
     },
     "execution_count": 20,
     "metadata": {},
     "output_type": "execute_result"
    }
   ],
   "source": [
    "prediction_path.loc[prediction_path['tree'] == 0]"
   ]
  },
  {
   "cell_type": "code",
   "execution_count": 21,
   "metadata": {},
   "outputs": [
    {
     "data": {
      "text/plain": [
       "contributing_var\n",
       "DIS      -0.685034\n",
       "LSTAT     6.433818\n",
       "NOX       0.062679\n",
       "RM       -2.398669\n",
       "base     18.607671\n",
       "Name: contribution, dtype: float64"
      ]
     },
     "execution_count": 21,
     "metadata": {},
     "output_type": "execute_result"
    }
   ],
   "source": [
    "prediction_path.groupby('contributing_var')['contribution'].sum()"
   ]
  },
  {
   "cell_type": "code",
   "execution_count": 30,
   "metadata": {},
   "outputs": [
    {
     "data": {
      "text/plain": [
       "LSTAT    6\n",
       "base     5\n",
       "DIS      4\n",
       "RM       4\n",
       "NOX      1\n",
       "Name: contributing_var, dtype: int64"
      ]
     },
     "execution_count": 30,
     "metadata": {},
     "output_type": "execute_result"
    }
   ],
   "source": [
    "prediction_path['contributing_var'].value_counts(dropna = False)"
   ]
  },
  {
   "cell_type": "markdown",
   "metadata": {},
   "source": [
    "Prediction contributions are the same as out of eli5"
   ]
  },
  {
   "cell_type": "markdown",
   "metadata": {},
   "source": [
    "# Explain prediction shap built into xgboost"
   ]
  },
  {
   "cell_type": "code",
   "execution_count": 22,
   "metadata": {},
   "outputs": [
    {
     "data": {
      "text/plain": [
       "CRIM        0.135195\n",
       "ZN          0.000000\n",
       "INDUS       0.000000\n",
       "CHAS        0.000000\n",
       "NOX         0.346123\n",
       "RM         -1.558380\n",
       "AGE         0.000000\n",
       "DIS        -0.433603\n",
       "RAD         0.000000\n",
       "TAX         0.000000\n",
       "PTRATIO     0.131869\n",
       "B           0.017024\n",
       "LSTAT       4.774564\n",
       "<BIAS>     18.607672\n",
       "Name: 0, dtype: float32"
      ]
     },
     "execution_count": 22,
     "metadata": {},
     "output_type": "execute_result"
    }
   ],
   "source": [
    "pd.DataFrame(\n",
    "    model.predict(data_xgb, pred_contribs = True), \n",
    "    columns = data_df.columns\n",
    ").iloc[row].rename({'target': '<BIAS>'})"
   ]
  },
  {
   "cell_type": "markdown",
   "metadata": {},
   "source": [
    "# Explain prediction with shap library"
   ]
  },
  {
   "cell_type": "code",
   "execution_count": 23,
   "metadata": {},
   "outputs": [
    {
     "name": "stderr",
     "output_type": "stream",
     "text": [
      "Setting feature_perturbation = \"tree_path_dependent\" because no background data was given.\n"
     ]
    }
   ],
   "source": [
    "explainer = shap.TreeExplainer(model)"
   ]
  },
  {
   "cell_type": "code",
   "execution_count": 24,
   "metadata": {},
   "outputs": [],
   "source": [
    "shap_values_np = explainer.shap_values(data_df.drop('target', axis = 1))"
   ]
  },
  {
   "cell_type": "code",
   "execution_count": 28,
   "metadata": {},
   "outputs": [
    {
     "data": {
      "text/html": [
       "<div>\n",
       "<style scoped>\n",
       "    .dataframe tbody tr th:only-of-type {\n",
       "        vertical-align: middle;\n",
       "    }\n",
       "\n",
       "    .dataframe tbody tr th {\n",
       "        vertical-align: top;\n",
       "    }\n",
       "\n",
       "    .dataframe thead th {\n",
       "        text-align: right;\n",
       "    }\n",
       "</style>\n",
       "<table border=\"1\" class=\"dataframe\">\n",
       "  <thead>\n",
       "    <tr style=\"text-align: right;\">\n",
       "      <th></th>\n",
       "      <th>CRIM</th>\n",
       "      <th>ZN</th>\n",
       "      <th>INDUS</th>\n",
       "      <th>CHAS</th>\n",
       "      <th>NOX</th>\n",
       "      <th>RM</th>\n",
       "      <th>AGE</th>\n",
       "      <th>DIS</th>\n",
       "      <th>RAD</th>\n",
       "      <th>TAX</th>\n",
       "      <th>PTRATIO</th>\n",
       "      <th>B</th>\n",
       "      <th>LSTAT</th>\n",
       "    </tr>\n",
       "  </thead>\n",
       "  <tbody>\n",
       "    <tr>\n",
       "      <th>0</th>\n",
       "      <td>0.135195</td>\n",
       "      <td>0.0</td>\n",
       "      <td>0.0</td>\n",
       "      <td>0.0</td>\n",
       "      <td>0.346123</td>\n",
       "      <td>-1.55838</td>\n",
       "      <td>0.0</td>\n",
       "      <td>-0.433603</td>\n",
       "      <td>0.0</td>\n",
       "      <td>0.0</td>\n",
       "      <td>0.131869</td>\n",
       "      <td>0.017024</td>\n",
       "      <td>4.774564</td>\n",
       "    </tr>\n",
       "  </tbody>\n",
       "</table>\n",
       "</div>"
      ],
      "text/plain": [
       "       CRIM   ZN  INDUS  CHAS       NOX       RM  AGE       DIS  RAD  TAX  \\\n",
       "0  0.135195  0.0    0.0   0.0  0.346123 -1.55838  0.0 -0.433603  0.0  0.0   \n",
       "\n",
       "    PTRATIO         B     LSTAT  \n",
       "0  0.131869  0.017024  4.774564  "
      ]
     },
     "execution_count": 28,
     "metadata": {},
     "output_type": "execute_result"
    }
   ],
   "source": [
    "shap_values_df = pd.DataFrame(shap_values_np[0,:]).T\n",
    "shap_values_df.columns = data_df.columns.values[:-1]\n",
    "shap_values_df"
   ]
  },
  {
   "cell_type": "code",
   "execution_count": null,
   "metadata": {},
   "outputs": [],
   "source": []
  },
  {
   "cell_type": "code",
   "execution_count": null,
   "metadata": {},
   "outputs": [],
   "source": []
  },
  {
   "cell_type": "code",
   "execution_count": null,
   "metadata": {},
   "outputs": [],
   "source": []
  },
  {
   "cell_type": "code",
   "execution_count": null,
   "metadata": {},
   "outputs": [],
   "source": []
  },
  {
   "cell_type": "code",
   "execution_count": null,
   "metadata": {},
   "outputs": [],
   "source": []
  }
 ],
 "metadata": {
  "kernelspec": {
   "display_name": "modelexpl",
   "language": "python",
   "name": "modelexpl"
  },
  "language_info": {
   "codemirror_mode": {
    "name": "ipython",
    "version": 3
   },
   "file_extension": ".py",
   "mimetype": "text/x-python",
   "name": "python",
   "nbconvert_exporter": "python",
   "pygments_lexer": "ipython3",
   "version": "3.7.4"
  },
  "toc": {
   "base_numbering": 1,
   "nav_menu": {},
   "number_sections": true,
   "sideBar": true,
   "skip_h1_title": false,
   "title_cell": "Table of Contents",
   "title_sidebar": "Contents",
   "toc_cell": true,
   "toc_position": {},
   "toc_section_display": true,
   "toc_window_display": true
  }
 },
 "nbformat": 4,
 "nbformat_minor": 4
}
